{
  "cells": [
    {
      "cell_type": "markdown",
      "metadata": {
        "collapsed": true,
        "id": "VCn4ocPf3-9g"
      },
      "source": [
        "# **Welcome to the Financial Programming with Python**\n",
        "\n",
        "### Quick tips\n",
        "\n",
        "When working in a Google Colaboratory notebook, **Shift-Return (Shift-Enter)** runs the cell you're on.  You can also run the cell using the \"Play\" button at the left edge of the cell.\n",
        "\n",
        "There are many other keyboard shortcuts.  You can access the list via the menu bar, at **Tools-->Command palette**.  In fact, you can even customize your keyboard shortcuts using **Tools-->Keyboard shortcuts**.\n",
        "\n",
        "\n",
        "> (If you're working in an Anaconda/Jupyter notebook:\n",
        "- Shift-Return (Shift-Enter) runs the cell you're on.  You can also run the cell using the \"Play\" button in the toolbar.\n",
        "- Esc, then A inserts a cell above where you are.\n",
        "- Esc, then B inserts a cell below where you are.\n",
        "- More shortcuts under Help --> Keyboard Shortcuts)\n",
        "\n",
        "\n",
        "You will probably get some errors in working through this notebook.  That's okay, you can just go back and change the cell and re-run it.\n",
        "\n",
        "The notebook auto-saves as you work, just like gmail and most Google apps.\n",
        "\n",
        "\n",
        "\n",
        "\n",
        "\n",
        "# Variables\n",
        "\n",
        "The first thing we're going to do is to learn about **variables**.  Variables are a way to store values that can be numbers, text, lists, boolean (true/false), etc.\n",
        "\n",
        "Much like in algebra, you set the value of a variable using what looks like an equation.\n",
        "\n",
        "To run this next cell, click on it and either press Shift-Enter, or press the Play (\"run cell\") button in the toolbar."
      ]
    },
    {
      "cell_type": "code",
      "execution_count": 2,
      "metadata": {
        "id": "Hih5T6rp3-9h"
      },
      "outputs": [],
      "source": [
        "price = 7.99"
      ]
    },
    {
      "cell_type": "markdown",
      "metadata": {
        "id": "RG28W_Rp3-9l"
      },
      "source": [
        "So let's see the effect of that, by having Python **evaluate** our variable called `price`.  Again, press Shift-Enter, or press the Play (\"run cell\") button in the toolbar."
      ]
    },
    {
      "cell_type": "code",
      "execution_count": 3,
      "metadata": {
        "colab": {
          "base_uri": "https://localhost:8080/"
        },
        "id": "escqhnnT3-9m",
        "outputId": "7ba0f596-81bc-4a41-af00-7411392117a4"
      },
      "outputs": [
        {
          "data": {
            "text/plain": [
              "7.99"
            ]
          },
          "execution_count": 3,
          "metadata": {},
          "output_type": "execute_result"
        }
      ],
      "source": [
        "price"
      ]
    },
    {
      "cell_type": "markdown",
      "metadata": {
        "id": "mIfP3fMy3-9p"
      },
      "source": [
        "Next, set the value of a new variable to your name.   A couple of things you'll need to know:\n",
        "* Variable names can't contain spaces or special characters (except `_` )\n",
        "* String values (like words or text) must be contained in a pair of either matching single quotes or matching double quotes.  For example:  `'This is some text'` or `\"This is some text\"`"
      ]
    },
    {
      "cell_type": "code",
      "execution_count": 4,
      "metadata": {
        "id": "BG1S-FXf3-9q"
      },
      "outputs": [],
      "source": [
        "name = '재무계산프로그래밍'"
      ]
    },
    {
      "cell_type": "code",
      "execution_count": 5,
      "metadata": {
        "colab": {
          "base_uri": "https://localhost:8080/",
          "height": 35
        },
        "id": "PSv1a1_v3-9t",
        "outputId": "08753427-1daf-4f6b-d27e-12ffa4ee818a"
      },
      "outputs": [
        {
          "data": {
            "text/plain": [
              "'재무계산프로그래밍'"
            ]
          },
          "execution_count": 5,
          "metadata": {},
          "output_type": "execute_result"
        }
      ],
      "source": [
        "name"
      ]
    },
    {
      "cell_type": "markdown",
      "metadata": {
        "id": "lejV-TVE3-9w"
      },
      "source": [
        "If you have another language installed on your computer (Chinese, Arabic, etc.), try using foreign characters in your string.  Python 3 handles these well.\n",
        "\n",
        "An example might be: \n",
        "\n",
        "```\n",
        "someText = 'سلام'\n",
        "```\n",
        "\n"
      ]
    },
    {
      "cell_type": "code",
      "execution_count": 6,
      "metadata": {
        "id": "wm-rlMl03-9x"
      },
      "outputs": [],
      "source": [
        "someText = '김강민'"
      ]
    },
    {
      "cell_type": "code",
      "execution_count": 7,
      "metadata": {
        "colab": {
          "base_uri": "https://localhost:8080/",
          "height": 35
        },
        "id": "d8E1IcvLbYIE",
        "outputId": "30b50fb6-bc99-4e06-c2dc-6ca5ff3d7369"
      },
      "outputs": [
        {
          "data": {
            "text/plain": [
              "'김강민'"
            ]
          },
          "execution_count": 7,
          "metadata": {},
          "output_type": "execute_result"
        }
      ],
      "source": [
        "someText"
      ]
    },
    {
      "cell_type": "markdown",
      "metadata": {
        "id": "KE4xtx2P3-90"
      },
      "source": [
        "What if we wanted to do some simple math using these variables?\n",
        "\n",
        "* Create a new variable called `quantity` and set it to a number.\n",
        "* Create another new variable called `extended_price` and set it to the product of price \\* quantity (use `*` for multiplying)\n"
      ]
    },
    {
      "cell_type": "code",
      "execution_count": null,
      "metadata": {
        "id": "02eJwKZG3-91"
      },
      "outputs": [],
      "source": [
        "quantity = 5\n",
        "extnded_price = price * quantity"
      ]
    },
    {
      "cell_type": "code",
      "execution_count": null,
      "metadata": {
        "colab": {
          "base_uri": "https://localhost:8080/"
        },
        "id": "M7ZiRtsncIpz",
        "outputId": "227c9662-3031-4861-9d0c-6d8023306696"
      },
      "outputs": [
        {
          "data": {
            "text/plain": [
              "39.95"
            ]
          },
          "execution_count": 11,
          "metadata": {
            "tags": []
          },
          "output_type": "execute_result"
        }
      ],
      "source": [
        "extnded_price"
      ]
    },
    {
      "cell_type": "markdown",
      "metadata": {
        "id": "WGwHjIGQ3-94"
      },
      "source": [
        "\n",
        "What happens if you try multiplying the name variable by 4?"
      ]
    },
    {
      "cell_type": "code",
      "execution_count": null,
      "metadata": {
        "colab": {
          "base_uri": "https://localhost:8080/",
          "height": 35
        },
        "id": "rxnXu5X83-95",
        "outputId": "f3bcde43-cafd-4fd4-c08c-87d7a0dcd190"
      },
      "outputs": [
        {
          "data": {
            "application/vnd.google.colaboratory.intrinsic+json": {
              "type": "string"
            },
            "text/plain": [
              "'김강민김강민김강민김강민'"
            ]
          },
          "execution_count": 12,
          "metadata": {
            "tags": []
          },
          "output_type": "execute_result"
        }
      ],
      "source": [
        "someText * 4"
      ]
    },
    {
      "cell_type": "markdown",
      "metadata": {
        "id": "C7AwupUb3-98"
      },
      "source": [
        "How about if you *divide* it by 2?  Add a number to it?  Add another name to it (using `+`)?"
      ]
    },
    {
      "cell_type": "code",
      "execution_count": null,
      "metadata": {
        "colab": {
          "base_uri": "https://localhost:8080/",
          "height": 35
        },
        "id": "Tzo39Wuw3-9_",
        "outputId": "3685ee02-eb90-41d2-ee45-81acb9ca60c3"
      },
      "outputs": [
        {
          "data": {
            "application/vnd.google.colaboratory.intrinsic+json": {
              "type": "string"
            },
            "text/plain": [
              "'김강민멋있다'"
            ]
          },
          "execution_count": 13,
          "metadata": {
            "tags": []
          },
          "output_type": "execute_result"
        }
      ],
      "source": [
        "someText + '멋있다'"
      ]
    },
    {
      "cell_type": "code",
      "execution_count": null,
      "metadata": {
        "id": "l9Zc9CC9c9A0"
      },
      "outputs": [],
      "source": [
        "name = name + 'handsome어렵다'"
      ]
    },
    {
      "cell_type": "code",
      "execution_count": null,
      "metadata": {
        "colab": {
          "base_uri": "https://localhost:8080/",
          "height": 35
        },
        "id": "KwPGLPkDdGxV",
        "outputId": "a7737af6-a5b7-4f59-cc3c-ff3886576bd3"
      },
      "outputs": [
        {
          "data": {
            "application/vnd.google.colaboratory.intrinsic+json": {
              "type": "string"
            },
            "text/plain": [
              "'재무계산프로그래밍handsome어렵다어렵다handsome어렵다'"
            ]
          },
          "execution_count": 23,
          "metadata": {
            "tags": []
          },
          "output_type": "execute_result"
        }
      ],
      "source": [
        "name"
      ]
    },
    {
      "cell_type": "markdown",
      "metadata": {
        "id": "Xm-RztaA3--C"
      },
      "source": [
        "What we're starting to see here is that Python has different **types** for numbers, text, and more.  You can find out the type of a variable by using:\n",
        "\n",
        "**`type(`**put your variable here**`)`** \n",
        "\n",
        "Try it."
      ]
    },
    {
      "cell_type": "code",
      "execution_count": null,
      "metadata": {
        "colab": {
          "base_uri": "https://localhost:8080/"
        },
        "id": "sYpL6SxR3--D",
        "outputId": "508e3286-0e29-4ee2-a21b-d791ef133362"
      },
      "outputs": [
        {
          "data": {
            "text/plain": [
              "str"
            ]
          },
          "execution_count": 32,
          "metadata": {
            "tags": []
          },
          "output_type": "execute_result"
        }
      ],
      "source": [
        "type(name)"
      ]
    },
    {
      "cell_type": "markdown",
      "metadata": {
        "id": "arl0WWLQ3--F"
      },
      "source": [
        "Numbers, by the way, aren't just numbers.  Look at the type of the `price` variable versus another variable set to `7`.\n",
        "\n",
        "You can even re-assign an existing variable to new type.  Try it!\n",
        "\n",
        "With type() function, you can identify the number is whether float, int, stirng \n"
      ]
    },
    {
      "cell_type": "code",
      "execution_count": null,
      "metadata": {
        "colab": {
          "base_uri": "https://localhost:8080/"
        },
        "id": "xWcahPaM3--I",
        "outputId": "5b7565f1-fc69-459d-9fd5-646dcec9a0cd"
      },
      "outputs": [
        {
          "data": {
            "text/plain": [
              "int"
            ]
          },
          "execution_count": 25,
          "metadata": {
            "tags": []
          },
          "output_type": "execute_result"
        }
      ],
      "source": [
        "price = 7\n",
        "type(price)"
      ]
    },
    {
      "cell_type": "markdown",
      "metadata": {
        "id": "w_GGZDIm3--L"
      },
      "source": [
        "There's also another important basic variable type, called a **boolean** variable.  Booleans can have a value of **`True`** or **`False`** (capitalized, in Python)\n",
        "\n",
        "Create a variable called `ajoustudent` and assign its value to `True`:"
      ]
    },
    {
      "cell_type": "code",
      "execution_count": null,
      "metadata": {
        "id": "ofmS7ztUd3La"
      },
      "outputs": [],
      "source": [
        "ajoustudent = True"
      ]
    },
    {
      "cell_type": "code",
      "execution_count": null,
      "metadata": {
        "colab": {
          "base_uri": "https://localhost:8080/"
        },
        "id": "fmoWI8iJ3--L",
        "outputId": "5a0fb19e-372d-4438-d038-182f7c5e0706"
      },
      "outputs": [
        {
          "data": {
            "text/plain": [
              "bool"
            ]
          },
          "execution_count": 31,
          "metadata": {
            "tags": []
          },
          "output_type": "execute_result"
        }
      ],
      "source": [
        "type(ajoustudent)"
      ]
    },
    {
      "cell_type": "markdown",
      "metadata": {
        "id": "ZELnzZg83--N"
      },
      "source": [
        "Now evaluate the `type()` of ajoustudent."
      ]
    },
    {
      "cell_type": "code",
      "execution_count": null,
      "metadata": {
        "id": "OdJNjqCq3--O"
      },
      "outputs": [],
      "source": []
    },
    {
      "cell_type": "markdown",
      "metadata": {
        "id": "jpIN2CC53--P"
      },
      "source": [
        "#### Comparison operators:  <, >, ==, !=, <=, >=, and, or, not, ...\n",
        "\n",
        "Try out some comparisons, for example, whether:\n",
        "* `price` is greater than 5.99\n",
        "* `name` is equal to \"Dan\""
      ]
    },
    {
      "cell_type": "code",
      "execution_count": null,
      "metadata": {
        "colab": {
          "base_uri": "https://localhost:8080/"
        },
        "id": "qUm9mdD03--R",
        "outputId": "4dc7328e-ab42-4bd1-97c5-128ed62dc6ef"
      },
      "outputs": [
        {
          "data": {
            "text/plain": [
              "True"
            ]
          },
          "execution_count": 33,
          "metadata": {
            "tags": []
          },
          "output_type": "execute_result"
        }
      ],
      "source": [
        "price > 5.99"
      ]
    },
    {
      "cell_type": "code",
      "execution_count": null,
      "metadata": {
        "id": "7QwPCgYQeiX7"
      },
      "outputs": [],
      "source": [
        "name = 'Dan'"
      ]
    },
    {
      "cell_type": "code",
      "execution_count": null,
      "metadata": {
        "colab": {
          "base_uri": "https://localhost:8080/"
        },
        "id": "mKdar6Q_esDl",
        "outputId": "47e81158-792a-49b1-98ec-70df3e2c19c2"
      },
      "outputs": [
        {
          "data": {
            "text/plain": [
              "True"
            ]
          },
          "execution_count": 35,
          "metadata": {
            "tags": []
          },
          "output_type": "execute_result"
        }
      ],
      "source": [
        "name == 'Dan'"
      ]
    },
    {
      "cell_type": "code",
      "execution_count": null,
      "metadata": {
        "colab": {
          "base_uri": "https://localhost:8080/"
        },
        "id": "Uz1sJSzPexIi",
        "outputId": "d3976050-a7fa-4481-8af6-f066bb80202e"
      },
      "outputs": [
        {
          "data": {
            "text/plain": [
              "False"
            ]
          },
          "execution_count": 36,
          "metadata": {
            "tags": []
          },
          "output_type": "execute_result"
        }
      ],
      "source": [
        "price == 9.50"
      ]
    },
    {
      "cell_type": "code",
      "execution_count": null,
      "metadata": {
        "colab": {
          "base_uri": "https://localhost:8080/"
        },
        "id": "HBUdtq7FfDoU",
        "outputId": "c1eb2d8c-6921-4b49-964a-b35203653109"
      },
      "outputs": [
        {
          "data": {
            "text/plain": [
              "False"
            ]
          },
          "execution_count": 37,
          "metadata": {
            "tags": []
          },
          "output_type": "execute_result"
        }
      ],
      "source": [
        "(price == 9.50) and (name == 'Dan')"
      ]
    },
    {
      "cell_type": "code",
      "execution_count": null,
      "metadata": {
        "id": "S_829RVkfOLq"
      },
      "outputs": [],
      "source": []
    },
    {
      "cell_type": "markdown",
      "metadata": {
        "id": "oe-XFxuD3--T"
      },
      "source": [
        "# Lists and Tuples"
      ]
    },
    {
      "cell_type": "markdown",
      "metadata": {
        "id": "Ay50GND03--U"
      },
      "source": [
        "**Lists** in Python hold an _ordered_ sequence of elements, like this:\n",
        "\n",
        "`states = ['Virginia', 'Maryland', 'New Jersey', 'Utah', 'Rhode Island']`\n",
        "\n",
        "Try creating a list of several countries."
      ]
    },
    {
      "cell_type": "code",
      "execution_count": null,
      "metadata": {
        "id": "Tj5OYx1F3--V"
      },
      "outputs": [],
      "source": [
        "countries = ['Canada', 'Uganda', 'Australia', 'Russia', 'France', 'China']"
      ]
    },
    {
      "cell_type": "markdown",
      "metadata": {
        "id": "-YGuf5dq3--Y"
      },
      "source": [
        "We can access the n'th element of a list using the `mylist[n]` notation.\n",
        "\n",
        "Try retrieving the first country in the list you created above."
      ]
    },
    {
      "cell_type": "code",
      "execution_count": null,
      "metadata": {
        "colab": {
          "base_uri": "https://localhost:8080/",
          "height": 35
        },
        "id": "V6YHSvmA3--Z",
        "outputId": "b8156a30-15f3-41ef-b033-d4db5025a32f"
      },
      "outputs": [
        {
          "data": {
            "application/vnd.google.colaboratory.intrinsic+json": {
              "type": "string"
            },
            "text/plain": [
              "'Canada'"
            ]
          },
          "execution_count": 52,
          "metadata": {
            "tags": []
          },
          "output_type": "execute_result"
        }
      ],
      "source": [
        "countries[0]"
      ]
    },
    {
      "cell_type": "markdown",
      "metadata": {
        "id": "bQM_djA33--c"
      },
      "source": [
        "Notice that in Python, the first element of the list is really the \"0th\" element (this is not the case when programming in R!)\n",
        "\n",
        "You can also access parts of the list using syntax like: [0:2], [:2], [3:], [-2],[-2:].  See if you can figure out what these do."
      ]
    },
    {
      "cell_type": "code",
      "execution_count": null,
      "metadata": {
        "colab": {
          "base_uri": "https://localhost:8080/"
        },
        "id": "P1w-jAVt3--c",
        "outputId": "397b6fe6-a1d8-4cfc-d165-7ca9bcc00f7b"
      },
      "outputs": [
        {
          "data": {
            "text/plain": [
              "['Uganda', 'Australia']"
            ]
          },
          "execution_count": 53,
          "metadata": {
            "tags": []
          },
          "output_type": "execute_result"
        }
      ],
      "source": [
        "countries[1:3]"
      ]
    },
    {
      "cell_type": "code",
      "execution_count": null,
      "metadata": {
        "colab": {
          "base_uri": "https://localhost:8080/"
        },
        "id": "iKON6p_I3--e",
        "outputId": "786bce07-2061-4df8-a677-8fd4dd3604ba"
      },
      "outputs": [
        {
          "data": {
            "text/plain": [
              "['Canada', 'Uganda']"
            ]
          },
          "execution_count": 59,
          "metadata": {
            "tags": []
          },
          "output_type": "execute_result"
        }
      ],
      "source": [
        "countries[0:2]"
      ]
    },
    {
      "cell_type": "code",
      "execution_count": null,
      "metadata": {
        "colab": {
          "base_uri": "https://localhost:8080/"
        },
        "id": "ZT1BnMI7ga-x",
        "outputId": "f07a25ec-cea0-49db-f1a7-deecd18b18f8"
      },
      "outputs": [
        {
          "data": {
            "text/plain": [
              "['France']"
            ]
          },
          "execution_count": 58,
          "metadata": {
            "tags": []
          },
          "output_type": "execute_result"
        }
      ],
      "source": [
        "countries[-2:5]"
      ]
    },
    {
      "cell_type": "code",
      "execution_count": null,
      "metadata": {
        "colab": {
          "base_uri": "https://localhost:8080/",
          "height": 35
        },
        "id": "H5o8_VBJggrA",
        "outputId": "f827779f-3de4-4c0e-b9e8-e4cc484b3de2"
      },
      "outputs": [
        {
          "data": {
            "application/vnd.google.colaboratory.intrinsic+json": {
              "type": "string"
            },
            "text/plain": [
              "'China'"
            ]
          },
          "execution_count": 56,
          "metadata": {
            "tags": []
          },
          "output_type": "execute_result"
        }
      ],
      "source": [
        "countries[-1]"
      ]
    },
    {
      "cell_type": "code",
      "execution_count": null,
      "metadata": {
        "id": "P4qb9klbgkpU"
      },
      "outputs": [],
      "source": []
    },
    {
      "cell_type": "markdown",
      "metadata": {
        "id": "-uQfEZhi3--g"
      },
      "source": [
        "Lists come with useful functions, like `len(mylist)` which returns the** length of the list**.  Try using `len()`"
      ]
    },
    {
      "cell_type": "code",
      "execution_count": null,
      "metadata": {
        "colab": {
          "base_uri": "https://localhost:8080/"
        },
        "id": "dducksREgj5x",
        "outputId": "fefd2073-985d-4bb0-a2cd-abd79fbcaee0"
      },
      "outputs": [
        {
          "data": {
            "text/plain": [
              "6"
            ]
          },
          "execution_count": 57,
          "metadata": {
            "tags": []
          },
          "output_type": "execute_result"
        }
      ],
      "source": [
        "len(countries)"
      ]
    },
    {
      "cell_type": "code",
      "execution_count": null,
      "metadata": {
        "id": "1l8dgYI-3--g"
      },
      "outputs": [],
      "source": []
    },
    {
      "cell_type": "markdown",
      "metadata": {
        "id": "53lEIr323--i"
      },
      "source": [
        "What if you wanted to add an element to a list?  Or remove an element from a list?  Try using:\n",
        "\n",
        "`mylist.append(<the new element>)`\n",
        "for example, `states.append('New York')`"
      ]
    },
    {
      "cell_type": "code",
      "execution_count": null,
      "metadata": {
        "colab": {
          "base_uri": "https://localhost:8080/"
        },
        "id": "1zzMmhQc3--k",
        "outputId": "3ec67498-c16f-4fa9-df7b-10880065c987"
      },
      "outputs": [
        {
          "data": {
            "text/plain": [
              "['Canada', 'Uganda', 'Australia', 'Russia', 'France', 'China', 'Spain']"
            ]
          },
          "execution_count": 60,
          "metadata": {
            "tags": []
          },
          "output_type": "execute_result"
        }
      ],
      "source": [
        "countries.append('Spain')\n",
        "countries"
      ]
    },
    {
      "cell_type": "code",
      "execution_count": null,
      "metadata": {
        "colab": {
          "base_uri": "https://localhost:8080/"
        },
        "id": "MKsj3m81hVlr",
        "outputId": "2c44df67-a10c-4cd4-fbde-6f5a06ae5324"
      },
      "outputs": [
        {
          "data": {
            "text/plain": [
              "['Spain', 'China', 'France', 'Russia', 'Australia', 'Uganda', 'Canada']"
            ]
          },
          "execution_count": 63,
          "metadata": {
            "tags": []
          },
          "output_type": "execute_result"
        }
      ],
      "source": [
        "countries.reverse()\n",
        "countries"
      ]
    },
    {
      "cell_type": "code",
      "execution_count": null,
      "metadata": {
        "id": "4_XTyaPrhKc1"
      },
      "outputs": [],
      "source": [
        "countries.insert(5,'Mexico')"
      ]
    },
    {
      "cell_type": "code",
      "execution_count": null,
      "metadata": {
        "colab": {
          "base_uri": "https://localhost:8080/"
        },
        "id": "wgEOvOYNhuqx",
        "outputId": "a03e6d14-4334-4204-8902-b49372f9a406"
      },
      "outputs": [
        {
          "data": {
            "text/plain": [
              "['Spain',\n",
              " 'China',\n",
              " 'France',\n",
              " 'Russia',\n",
              " 'Australia',\n",
              " 'Mexico',\n",
              " 'Uganda',\n",
              " 'Canada']"
            ]
          },
          "execution_count": 65,
          "metadata": {
            "tags": []
          },
          "output_type": "execute_result"
        }
      ],
      "source": [
        "countries"
      ]
    },
    {
      "cell_type": "code",
      "execution_count": null,
      "metadata": {
        "colab": {
          "base_uri": "https://localhost:8080/"
        },
        "id": "TQMiXjJgiDDJ",
        "outputId": "5c34e210-1afe-4dc9-9f45-3d9c541e63f5"
      },
      "outputs": [
        {
          "data": {
            "text/plain": [
              "['Italy',\n",
              " 'Egypt',\n",
              " 'France',\n",
              " 'Russia',\n",
              " 'Australia',\n",
              " 'Mexico',\n",
              " 'Uganda',\n",
              " 'Canada']"
            ]
          },
          "execution_count": 69,
          "metadata": {
            "tags": []
          },
          "output_type": "execute_result"
        }
      ],
      "source": [
        "countries[0] = 'Italy'\n",
        "countries"
      ]
    },
    {
      "cell_type": "code",
      "execution_count": null,
      "metadata": {
        "colab": {
          "base_uri": "https://localhost:8080/"
        },
        "id": "PjRv9069iFVJ",
        "outputId": "fb71a129-a76d-4fad-c06a-906022d9a21d"
      },
      "outputs": [
        {
          "data": {
            "text/plain": [
              "['Algeria',\n",
              " 'Egypt',\n",
              " 'France',\n",
              " 'Russia',\n",
              " 'Australia',\n",
              " 'Mexico',\n",
              " 'Uganda',\n",
              " 'Canada']"
            ]
          },
          "execution_count": 68,
          "metadata": {
            "tags": []
          },
          "output_type": "execute_result"
        }
      ],
      "source": [
        "countries\n",
        "countries[0:2] = ['Algeria', 'Egypt']\n",
        "countries"
      ]
    },
    {
      "cell_type": "markdown",
      "metadata": {
        "collapsed": true,
        "id": "hzf2U3nM3--l"
      },
      "source": [
        "There are also list functions to do things like insert, remove, sort, reverse.  You can also use the `+` operator to add lists together. You can even multiply a list by a number, similar to how earlier we multiplied a string by a number!\n",
        "\n",
        "Try adding a list of two new states to your list."
      ]
    },
    {
      "cell_type": "code",
      "execution_count": null,
      "metadata": {
        "colab": {
          "base_uri": "https://localhost:8080/"
        },
        "id": "rRGveMZ1iB7d",
        "outputId": "6a70dba7-2263-4aa0-e24c-bca1c31d51bf"
      },
      "outputs": [
        {
          "data": {
            "text/plain": [
              "bool"
            ]
          },
          "execution_count": 4,
          "metadata": {
            "tags": []
          },
          "output_type": "execute_result"
        }
      ],
      "source": [
        "type(True)"
      ]
    },
    {
      "cell_type": "code",
      "execution_count": null,
      "metadata": {
        "id": "7Vzuhhuv3--m"
      },
      "outputs": [],
      "source": []
    },
    {
      "cell_type": "code",
      "execution_count": null,
      "metadata": {
        "colab": {
          "base_uri": "https://localhost:8080/"
        },
        "id": "fZl4cuDsi8Wq",
        "outputId": "04e573d7-de1d-4372-f189-b3ca333cd26f"
      },
      "outputs": [
        {
          "data": {
            "text/plain": [
              "['a', '6', True, False]"
            ]
          },
          "execution_count": 70,
          "metadata": {
            "tags": []
          },
          "output_type": "execute_result"
        }
      ],
      "source": [
        "['a', '6', True, False]"
      ]
    },
    {
      "cell_type": "markdown",
      "metadata": {
        "id": "ObNsGOTA3--o"
      },
      "source": [
        "So far, we've only created lists of strings (text).  Do you think Python will let you have a list with a mix of different types in it (numbers, strings, other lists, etc.)?  Try it."
      ]
    },
    {
      "cell_type": "code",
      "execution_count": null,
      "metadata": {
        "colab": {
          "base_uri": "https://localhost:8080/"
        },
        "id": "eZdwGK7B3--o",
        "outputId": "e1c95838-2aad-446c-d52d-87f97c14e840"
      },
      "outputs": [
        {
          "data": {
            "text/plain": [
              "['Korea', 3, 'BTS', True]"
            ]
          },
          "execution_count": 71,
          "metadata": {
            "tags": []
          },
          "output_type": "execute_result"
        }
      ],
      "source": [
        "['Korea', 3, 'BTS', True]"
      ]
    },
    {
      "cell_type": "markdown",
      "metadata": {
        "id": "wPIiOpKl3--q"
      },
      "source": [
        "Strings (like your name variable) also have some list-like behaviors, because they're lists of individual charactres.  How might you get the the n'th character from a string?"
      ]
    },
    {
      "cell_type": "code",
      "execution_count": null,
      "metadata": {
        "id": "B2Nmb7CJ3--q"
      },
      "outputs": [],
      "source": []
    },
    {
      "cell_type": "markdown",
      "metadata": {
        "id": "AtqTtIkR3--s"
      },
      "source": [
        "### Tuples\n",
        "\n",
        "Notice that we created a list using [] square brackets.  If we use () parentheses, we create what's called a *tuple*.  A tuple might be something like this:"
      ]
    },
    {
      "cell_type": "code",
      "execution_count": null,
      "metadata": {
        "id": "BpsG6_Rb3--u"
      },
      "outputs": [],
      "source": [
        "colors = ('blue', 'green', 'red')"
      ]
    },
    {
      "cell_type": "markdown",
      "metadata": {
        "id": "BFQtx0XY3--v"
      },
      "source": [
        "Notice that tuples are like lists: you can access elements, etc.  But what if you try to append to a tuple?"
      ]
    },
    {
      "cell_type": "code",
      "execution_count": null,
      "metadata": {
        "colab": {
          "base_uri": "https://localhost:8080/"
        },
        "id": "NM_cYsE9jgOZ",
        "outputId": "c5c72367-c327-4240-e4af-4f5f2e144972"
      },
      "outputs": [
        {
          "data": {
            "text/plain": [
              "1"
            ]
          },
          "execution_count": 75,
          "metadata": {
            "tags": []
          },
          "output_type": "execute_result"
        }
      ],
      "source": [
        "colors.index('green')\n"
      ]
    },
    {
      "cell_type": "markdown",
      "metadata": {
        "id": "wWgGPRMr3--x"
      },
      "source": [
        "### The \"in\" operator\n",
        "\n",
        "We can use `in` to see whether an element is found in a list.  Try running this:"
      ]
    },
    {
      "cell_type": "code",
      "execution_count": null,
      "metadata": {
        "colab": {
          "base_uri": "https://localhost:8080/"
        },
        "id": "KQ3CpNco3--y",
        "outputId": "9be1bfab-0bb8-48b2-e622-241a08c60094"
      },
      "outputs": [
        {
          "data": {
            "text/plain": [
              "False"
            ]
          },
          "execution_count": 76,
          "metadata": {
            "tags": []
          },
          "output_type": "execute_result"
        }
      ],
      "source": [
        "'yellow'in colors"
      ]
    },
    {
      "cell_type": "code",
      "execution_count": null,
      "metadata": {
        "colab": {
          "base_uri": "https://localhost:8080/"
        },
        "id": "iyQWfqyNegi9",
        "outputId": "fd1c7efb-545f-4eaf-cf8e-a464487d325c"
      },
      "outputs": [
        {
          "data": {
            "text/plain": [
              "True"
            ]
          },
          "execution_count": 77,
          "metadata": {
            "tags": []
          },
          "output_type": "execute_result"
        }
      ],
      "source": [
        "'green' in colors"
      ]
    },
    {
      "cell_type": "markdown",
      "metadata": {
        "collapsed": true,
        "id": "yK9qVYSV3--0"
      },
      "source": [
        "# Dictionaries \n",
        "#Prettly unique in Python\n",
        "\n",
        "A **Dictionary** is a container that holds pairs of objects - keys and values.  Keys may be strings or numbers.  A value may be any type, whether an integer, string, boolean, list, etc.  It can even be another dictionary!\n",
        "\n",
        "Here's an example of a dictionary:"
      ]
    },
    {
      "cell_type": "code",
      "execution_count": null,
      "metadata": {
        "id": "PYOxILdR3--0"
      },
      "outputs": [],
      "source": [
        "workshop = {'name': 'Programing With Python',\n",
        "            'duration' : 2,\n",
        "            'instructors': ['Dan','Laura', 'Dolsy', 'Sahiti'],\n",
        "            'awesome' : True}"
      ]
    },
    {
      "cell_type": "markdown",
      "metadata": {
        "collapsed": true,
        "id": "gRKrDjY53--4"
      },
      "source": [
        "So dictionaries are very similar to lists, except that they're indexed with keys.\n",
        "\n",
        "Dictionaries are actually data structures that can represent objects in **JSON** (JavaScript Object Notation) format, which today is a very common way of representing data!\n",
        "\n",
        "How do you think you would access the value of `'instructors'` key from the `workshop` dictionary?"
      ]
    },
    {
      "cell_type": "code",
      "execution_count": null,
      "metadata": {
        "colab": {
          "base_uri": "https://localhost:8080/"
        },
        "id": "H3eEDCnw3--4",
        "outputId": "72a48f5e-20b5-4c49-f30f-09b56ea64292"
      },
      "outputs": [
        {
          "data": {
            "text/plain": [
              "{'awesome': True,\n",
              " 'duration': 2,\n",
              " 'instructors': ['Dan', 'Laura', 'Dolsy', 'Sahiti'],\n",
              " 'name': 'Programing With Python'}"
            ]
          },
          "execution_count": 79,
          "metadata": {
            "tags": []
          },
          "output_type": "execute_result"
        }
      ],
      "source": [
        "workshop"
      ]
    },
    {
      "cell_type": "code",
      "execution_count": null,
      "metadata": {
        "colab": {
          "base_uri": "https://localhost:8080/"
        },
        "id": "LD5uGdN5k0_7",
        "outputId": "a34c2a2f-9c95-4dfd-ec73-05b89846e9af"
      },
      "outputs": [
        {
          "data": {
            "text/plain": [
              "2"
            ]
          },
          "execution_count": 81,
          "metadata": {
            "tags": []
          },
          "output_type": "execute_result"
        }
      ],
      "source": [
        "workshop['duration']"
      ]
    },
    {
      "cell_type": "markdown",
      "metadata": {
        "id": "2VY6VvO13--6"
      },
      "source": [
        "How do you think you would ***add*** an item to the dictionary?  Try adding a 'location' item.  How about replacing an item?"
      ]
    },
    {
      "cell_type": "code",
      "execution_count": null,
      "metadata": {
        "colab": {
          "base_uri": "https://localhost:8080/"
        },
        "id": "19V7U78b3--7",
        "outputId": "bd4f695d-cd84-4605-d204-b9a6e5301e99"
      },
      "outputs": [
        {
          "data": {
            "text/plain": [
              "{'awesome': True,\n",
              " 'duration': 2,\n",
              " 'instructors': ['Dan', 'Laura', 'Dolsy', 'Sahiti'],\n",
              " 'location': 'Dasan 406',\n",
              " 'name': 'Programing With Python'}"
            ]
          },
          "execution_count": 83,
          "metadata": {
            "tags": []
          },
          "output_type": "execute_result"
        }
      ],
      "source": [
        "workshop['location'] = 'Dasan 406'\n",
        "workshop"
      ]
    },
    {
      "cell_type": "markdown",
      "metadata": {
        "collapsed": true,
        "id": "cBRuUUgb3--9"
      },
      "source": [
        "### Challenge\n",
        "\n",
        "How might you add two more names to the list of instructors?  (Challenge:  Try to do this in one line, *without* just overriding the list of instructors)"
      ]
    },
    {
      "cell_type": "code",
      "execution_count": null,
      "metadata": {
        "colab": {
          "base_uri": "https://localhost:8080/"
        },
        "id": "svn_3DI83---",
        "outputId": "a5bdd2af-24dc-4f9c-aa63-96f95f60a66c"
      },
      "outputs": [
        {
          "data": {
            "text/plain": [
              "{'awesome': True,\n",
              " 'duration': 2,\n",
              " 'instructors': ['Dan', 'Laura', 'Dolsy', 'Sahiti', 'Kang'],\n",
              " 'location': 'Dasan 406',\n",
              " 'name': 'Programing With Python'}"
            ]
          },
          "execution_count": 87,
          "metadata": {
            "tags": []
          },
          "output_type": "execute_result"
        }
      ],
      "source": [
        "workshop['instructors'] = workshop['instructors'] +['Kang'] \n",
        "workshop               "
      ]
    },
    {
      "cell_type": "code",
      "execution_count": null,
      "metadata": {
        "colab": {
          "base_uri": "https://localhost:8080/"
        },
        "id": "8tDH4Xz5l5EL",
        "outputId": "f77ffad7-cf0e-4d90-e588-aee7696188e8"
      },
      "outputs": [
        {
          "data": {
            "text/plain": [
              "{'awesome': True,\n",
              " 'duration': 2,\n",
              " 'instructors': ['Dan', 'Laura', 'Dolsy', 'Sahiti'],\n",
              " 'location': 'Dasan 406',\n",
              " 'name': 'Programing With Python'}"
            ]
          },
          "execution_count": 89,
          "metadata": {
            "tags": []
          },
          "output_type": "execute_result"
        }
      ],
      "source": [
        "workshop['instructors'].remove('Kang')\n",
        "workshop"
      ]
    },
    {
      "cell_type": "code",
      "execution_count": null,
      "metadata": {
        "id": "UxalMu0hmESn"
      },
      "outputs": [],
      "source": []
    },
    {
      "cell_type": "markdown",
      "metadata": {
        "id": "wzTveZhQ3-_C"
      },
      "source": [
        "We can also look up whether a certain key exists in a dictionary.  How might you evaluate whether or not `workshop` contains a `location` key?"
      ]
    },
    {
      "cell_type": "code",
      "execution_count": null,
      "metadata": {
        "colab": {
          "base_uri": "https://localhost:8080/"
        },
        "id": "KHGH6NWc3-_D",
        "outputId": "dc9d626c-7cca-4419-aee2-99a0134015db"
      },
      "outputs": [
        {
          "data": {
            "text/plain": [
              "True"
            ]
          },
          "execution_count": 90,
          "metadata": {
            "tags": []
          },
          "output_type": "execute_result"
        }
      ],
      "source": [
        "'location'in workshop\n",
        "# in operator 는 불리안 함수만을 결과로 프린트"
      ]
    },
    {
      "cell_type": "markdown",
      "metadata": {
        "id": "HLItTaYq3-_G"
      },
      "source": [
        "# Comments\n",
        "\n",
        "Comment lines start with `#`.  They don't execute any code, but it's a very good idea to comment your code so that the reader (which might be your future self) can understand anything that's not already obvious from your clear and well-written code."
      ]
    },
    {
      "cell_type": "code",
      "execution_count": null,
      "metadata": {
        "id": "htTaGJwK3-_G"
      },
      "outputs": [],
      "source": [
        "#코멘트"
      ]
    },
    {
      "cell_type": "markdown",
      "metadata": {
        "id": "1rL-U52E8Eho"
      },
      "source": []
    },
    {
      "cell_type": "code",
      "execution_count": null,
      "metadata": {
        "id": "kGpBPhbG8ED5"
      },
      "outputs": [],
      "source": [
        "#This is a comment and is for the reader's benefit"
      ]
    },
    {
      "cell_type": "markdown",
      "metadata": {
        "id": "gSIbXT1H3-_I"
      },
      "source": [
        "# Iteration (looping)\n",
        "\n",
        "Iteration allows us to repeat over a section of code, and iterate through a list (or other \"iterable\") at the same time.  **`for`** and **`while`** create iterations, like this:\n",
        "\n",
        "```\n",
        "numbers = [4, 6, 0, 5.5, 3]\n",
        "for n in numbers:\n",
        "    print(\"The next number in the list, squared is \", n**2)\n",
        "    \n",
        "print(\"We're done iterating -- notice that this line isn't indented, so it's outside the loop\")\n",
        "```    \n",
        "\n",
        "and this brings up the topic of **indentation**!  The block (i.e., lines) of code that you're iterating over needs to be indented.  In Python, you should indent by 4 spaces.\n",
        "\n",
        "Try creating a list of exam scores that we'd like to grade on a curve.  Use `max()` to find out the highest score.  Then create an iteration that prints out the score as well as the score graded on a curve (by dividing by the highest score).\n"
      ]
    },
    {
      "cell_type": "code",
      "execution_count": null,
      "metadata": {
        "id": "cB9e2EI73-_J"
      },
      "outputs": [],
      "source": [
        "scores = [80, 91, 77, 50.5, 43, 88,81]"
      ]
    },
    {
      "cell_type": "code",
      "execution_count": null,
      "metadata": {
        "colab": {
          "base_uri": "https://localhost:8080/"
        },
        "id": "4x_EHB0E3-_K",
        "outputId": "c5156fc1-2d69-49e6-efdd-1f254ac2bba1"
      },
      "outputs": [
        {
          "data": {
            "text/plain": [
              "91"
            ]
          },
          "execution_count": 7,
          "metadata": {
            "tags": []
          },
          "output_type": "execute_result"
        }
      ],
      "source": [
        "max(scores)"
      ]
    },
    {
      "cell_type": "code",
      "execution_count": null,
      "metadata": {
        "colab": {
          "base_uri": "https://localhost:8080/"
        },
        "id": "3Lgp854N3-_O",
        "outputId": "8847e4ee-e012-438b-bd21-39b550b86430"
      },
      "outputs": [
        {
          "name": "stdout",
          "output_type": "stream",
          "text": [
            "the student got a 80 which curves to a None\n",
            "the student got a 91 which curves to a None\n",
            "the student got a 77 which curves to a None\n",
            "the student got a 50.5 which curves to a None\n",
            "the student got a 43 which curves to a None\n",
            "the student got a 88 which curves to a None\n",
            "the student got a 81 which curves to a None\n",
            "Done\n"
          ]
        }
      ],
      "source": [
        "curvedscores = []\n",
        "\n",
        "for score in scores :\n",
        "  c = curvedscores.append(100*score/max(scores))\n",
        "  print('the student got a', score, 'which curves to a', c)\n",
        "\n",
        "print('Done')"
      ]
    },
    {
      "cell_type": "code",
      "execution_count": null,
      "metadata": {
        "colab": {
          "base_uri": "https://localhost:8080/"
        },
        "id": "b1TfmTzA7e_6",
        "outputId": "6664615c-9c3f-47bf-d9e8-2b2e888cf70c"
      },
      "outputs": [
        {
          "name": "stdout",
          "output_type": "stream",
          "text": [
            "['*', '*', '*', '*', '*', '*', '*']\n",
            "['B', 'A', 'B', 'B', 'B', 'A', 'B']\n"
          ]
        }
      ],
      "source": [
        " grade = ['*']*len(scores)\n",
        " print(grade)\n",
        "\n",
        " for s in scores :\n",
        "   index = scores.index(s)\n",
        "   if s >= 90 :\n",
        "       grade[index] = \"A\"\n",
        "   elif s>= 85:\n",
        "     grade[index] = \"A\"\n",
        "   else :\n",
        "         grade[index] = \"B\"\n",
        "  \n",
        "print(grade)\n"
      ]
    },
    {
      "cell_type": "code",
      "execution_count": null,
      "metadata": {
        "colab": {
          "base_uri": "https://localhost:8080/"
        },
        "id": "YmoEs4QF62j7",
        "outputId": "6fe674c8-e6ad-4c4e-8300-b0640212b3d5"
      },
      "outputs": [
        {
          "name": "stdout",
          "output_type": "stream",
          "text": [
            "['*', '*', '*', '*', '*', '*', '*']\n",
            "['B', 'A', 'B', 'B', 'B', 'A', 'B']\n"
          ]
        }
      ],
      "source": [
        "grade = ['*']*len(scores)\n",
        "print(grade)\n",
        "\n",
        "for s in scores :\n",
        "  index = scores.index(s)\n",
        "  if s>= 85 :\n",
        "    grade[index] = \"A\"\n",
        "  else :\n",
        "    grade[index] = \"B\"\n",
        "print(grade)"
      ]
    },
    {
      "cell_type": "markdown",
      "metadata": {
        "id": "XWIo1pp63-_R"
      },
      "source": [
        "Iterating over dictionaries is slightly different:\n"
      ]
    },
    {
      "cell_type": "code",
      "execution_count": null,
      "metadata": {
        "colab": {
          "base_uri": "https://localhost:8080/"
        },
        "id": "ajcpjk-y3-_S",
        "outputId": "eaf2a328-a298-4254-c85c-7361d178a022"
      },
      "outputs": [
        {
          "name": "stdout",
          "output_type": "stream",
          "text": [
            "The key is name and the value is Programing With Python\n",
            "The key is duration and the value is 2\n",
            "The key is instructors and the value is ['Dan', 'Laura', 'Dolsy', 'Sahiti']\n",
            "The key is awesome and the value is True\n",
            "The key is location and the value is Dasan 406\n"
          ]
        }
      ],
      "source": [
        "for key, value in  workshop.items():\n",
        "  print(\"The key is\",key,\"and the value is\", value)"
      ]
    },
    {
      "cell_type": "code",
      "execution_count": null,
      "metadata": {
        "colab": {
          "base_uri": "https://localhost:8080/"
        },
        "id": "UjVLeTkyoldk",
        "outputId": "b2b81878-62af-4f7e-8b59-8c508fe9dda1"
      },
      "outputs": [
        {
          "data": {
            "text/plain": [
              "dict_items([('name', 'Programing With Python'), ('duration', 2), ('instructors', ['Dan', 'Laura', 'Dolsy', 'Sahiti']), ('awesome', True), ('location', 'Dasan 406')])"
            ]
          },
          "execution_count": 109,
          "metadata": {
            "tags": []
          },
          "output_type": "execute_result"
        }
      ],
      "source": [
        "workshop.items()"
      ]
    },
    {
      "cell_type": "markdown",
      "metadata": {
        "id": "KuMsoqE13-_V"
      },
      "source": [
        "Notice that dictionaries are unordered.  There's no guarantee about what order the iterator will yield the dictionary items to you in."
      ]
    },
    {
      "cell_type": "code",
      "execution_count": null,
      "metadata": {
        "colab": {
          "base_uri": "https://localhost:8080/"
        },
        "id": "iZFYg3fapI7k",
        "outputId": "7e4d50fa-ec34-4839-8c70-952afed409b7"
      },
      "outputs": [
        {
          "name": "stdout",
          "output_type": "stream",
          "text": [
            "name is name and the duration is Programing With Python\n",
            "name is duration and the duration is 2\n",
            "name is instructors and the duration is ['Dan', 'Laura', 'Dolsy', 'Sahiti']\n",
            "name is awesome and the duration is True\n",
            "name is location and the duration is Dasan 406\n"
          ]
        }
      ],
      "source": [
        "for name, duration in workshop.items():\n",
        "  print('name is', name, 'and the duration is',duration)"
      ]
    },
    {
      "cell_type": "markdown",
      "metadata": {
        "id": "1iLUd1sm3-_W"
      },
      "source": [
        "### Another way to iterate: `while`"
      ]
    },
    {
      "cell_type": "markdown",
      "metadata": {
        "id": "rKM4VW1a3-_W"
      },
      "source": [
        "What if we don't have a list or other \"iterable\" for our for loop to iterate over? In that case, you can also loop using **`while`**."
      ]
    },
    {
      "cell_type": "markdown",
      "metadata": {
        "id": "vP__9XLG3-_X"
      },
      "source": [
        "Let's keep adding random numbers (between 1 and 10) until the sum hits at least 50.  We can use Python's `random` library, which we first need to import:"
      ]
    },
    {
      "cell_type": "code",
      "execution_count": null,
      "metadata": {
        "id": "rEL49SnT3-_Y"
      },
      "outputs": [],
      "source": [
        "import random"
      ]
    },
    {
      "cell_type": "code",
      "execution_count": null,
      "metadata": {
        "colab": {
          "base_uri": "https://localhost:8080/"
        },
        "id": "zy-w_xFdpVO4",
        "outputId": "b9283d5a-32e1-4624-e6f2-91f2c38388dc"
      },
      "outputs": [
        {
          "data": {
            "text/plain": [
              "<module 'random' from '/usr/lib/python3.7/random.py'>"
            ]
          },
          "execution_count": 14,
          "metadata": {
            "tags": []
          },
          "output_type": "execute_result"
        }
      ],
      "source": [
        "random"
      ]
    },
    {
      "cell_type": "code",
      "execution_count": null,
      "metadata": {
        "colab": {
          "base_uri": "https://localhost:8080/"
        },
        "id": "bzXjGNYy3-_e",
        "outputId": "14245fd9-40e9-4947-93a2-c1212db3332c"
      },
      "outputs": [
        {
          "data": {
            "text/plain": [
              "9"
            ]
          },
          "execution_count": 20,
          "metadata": {
            "tags": []
          },
          "output_type": "execute_result"
        }
      ],
      "source": [
        "random.randint(1,10)"
      ]
    },
    {
      "cell_type": "code",
      "execution_count": null,
      "metadata": {
        "colab": {
          "base_uri": "https://localhost:8080/"
        },
        "id": "KaXQHkL5p2Yn",
        "outputId": "abd445f5-29ff-4239-abf6-213b8432f378"
      },
      "outputs": [
        {
          "name": "stdout",
          "output_type": "stream",
          "text": [
            "5\n",
            "7\n",
            "13\n",
            "20\n",
            "27\n",
            "30\n",
            "32\n",
            "34\n",
            "35\n",
            "40\n",
            "41\n",
            "46\n",
            "49\n",
            "53\n"
          ]
        }
      ],
      "source": [
        "sum_so_far = 0\n",
        "\n",
        "while sum_so_far < 50 :\n",
        "  sum_so_far = sum_so_far + random.randint(1,10)\n",
        "  print(sum_so_far)"
      ]
    },
    {
      "cell_type": "markdown",
      "metadata": {
        "id": "ePNCscCD3-_j"
      },
      "source": [
        "Now for the `while` loop:"
      ]
    },
    {
      "cell_type": "markdown",
      "metadata": {
        "id": "at-b9zWF3-_k"
      },
      "source": [
        "sum_so_far = 0 \n",
        "while sum_so_far < 50:\n",
        "    # What would you put in here?"
      ]
    },
    {
      "cell_type": "markdown",
      "metadata": {
        "id": "CjjDvjIM3-_l"
      },
      "source": [
        "### A random side note:\n",
        "    \n",
        "Try running the cell above with `random.randint(1,10)` again and again.  In a scientific setting, how might you ensure that your random sequence is \"repeatable\"?"
      ]
    },
    {
      "cell_type": "code",
      "execution_count": null,
      "metadata": {
        "id": "SdaDqwyiqQZP"
      },
      "outputs": [],
      "source": [
        "random.seed(100)"
      ]
    },
    {
      "cell_type": "code",
      "execution_count": null,
      "metadata": {
        "id": "5hquBMEVFK9c"
      },
      "outputs": [],
      "source": []
    },
    {
      "cell_type": "markdown",
      "metadata": {
        "id": "vx4AjHrt3-_m"
      },
      "source": [
        "### Another use of while:"
      ]
    },
    {
      "cell_type": "markdown",
      "metadata": {
        "id": "H3nPfMFJ3-_n"
      },
      "source": [
        "One way you might see `while` used is with **`while True`** which just continues indefinitely:"
      ]
    },
    {
      "cell_type": "code",
      "execution_count": null,
      "metadata": {
        "colab": {
          "base_uri": "https://localhost:8080/"
        },
        "id": "r3ZC3GJP3-_o",
        "outputId": "35458b25-8c16-41f5-8c94-78be50b005fd"
      },
      "outputs": [
        {
          "name": "stdout",
          "output_type": "stream",
          "text": [
            "No!!!! Didn't get a 7\n",
            "Yes!!! Got a lucky 7 -- 드디어 룹이 끝났다!\n"
          ]
        }
      ],
      "source": [
        "lucky_number = 7\n",
        "\n",
        "while True : \n",
        "  a_number = random.randint(1,10)\n",
        "  if a_number != lucky_number :\n",
        "    print(\"No!!!! Didn't get a\", lucky_number)\n",
        "  else:\n",
        "    print(\"Yes!!! Got a lucky\", lucky_number, \"-- 드디어 룹이 끝났다!\")\n",
        "    break"
      ]
    },
    {
      "cell_type": "markdown",
      "metadata": {
        "id": "P-XGL6w03-_u"
      },
      "source": [
        "What does the `break` statement do?"
      ]
    },
    {
      "cell_type": "markdown",
      "metadata": {
        "id": "68-RHxdY3-_w"
      },
      "source": [
        "## Conditionals\n",
        "\n",
        "Notice that in the example above, we snuck in the use of **`if`** and **`else`**.  Conditional expressions, using `if`, `else`, and `elif` (a contraction of \"else if\") allow us to execute blocks of code only if the condition is true.\n",
        "\n",
        "Create some code that iterates through a list of exam scores.  If a score is 70 or above, it should print out \"Pass!\"  If it's below 70, it should print out \"Fail!\""
      ]
    },
    {
      "cell_type": "code",
      "execution_count": null,
      "metadata": {
        "colab": {
          "base_uri": "https://localhost:8080/"
        },
        "id": "3SXK9Mlj3-_x",
        "outputId": "aba834fa-0910-47d7-81b0-6cb561fee3f8"
      },
      "outputs": [
        {
          "name": "stdout",
          "output_type": "stream",
          "text": [
            "5\n",
            "[1, 1, 1, 1, 1]\n"
          ]
        }
      ],
      "source": [
        "scores = [61, 95, 70, 80, 99]\n",
        "ls = len(scores)\n",
        "\n",
        "print(ls)\n",
        "\n",
        "grade = [1] * ls\n",
        "\n",
        "print(grade)"
      ]
    },
    {
      "cell_type": "code",
      "execution_count": null,
      "metadata": {
        "colab": {
          "base_uri": "https://localhost:8080/"
        },
        "id": "LzVQ1oe-x8te",
        "outputId": "e28251a2-c0e1-4a48-99f2-834e708b1162"
      },
      "outputs": [
        {
          "name": "stdout",
          "output_type": "stream",
          "text": [
            "61\n",
            "0\n",
            "95\n",
            "1\n",
            "[1, 'A', 1, 1, 'A']\n",
            "70\n",
            "2\n",
            "80\n",
            "3\n",
            "99\n",
            "4\n",
            "[1, 'A', 1, 1, 'A']\n"
          ]
        }
      ],
      "source": [
        "for s in scores :\n",
        "  print(s)\n",
        "  i = scores.index(s)\n",
        "  print(i)\n",
        "\n",
        "  if s >= 95 :\n",
        "    grade[i] = \"A\"\n",
        "    print(grade)"
      ]
    },
    {
      "cell_type": "code",
      "execution_count": null,
      "metadata": {
        "colab": {
          "base_uri": "https://localhost:8080/"
        },
        "id": "7XuQlX51YyMU",
        "outputId": "2103d78e-3892-462b-e077-1a3560e4a1dc"
      },
      "outputs": [
        {
          "name": "stdout",
          "output_type": "stream",
          "text": [
            "[1, 'A', 1, 1, 'A']\n"
          ]
        }
      ],
      "source": [
        "ls = len(scores)\n",
        "grade = [1]*ls\n",
        "\n",
        "for s in scores :\n",
        "  i = scores.index(s)\n",
        "  if s>= 95:\n",
        "    grade[i] =\"A\"\n",
        "print(grade)\n",
        "    "
      ]
    },
    {
      "cell_type": "markdown",
      "metadata": {
        "id": "yWD7Vgst3-_z"
      },
      "source": [
        "## Functions\n",
        "\n",
        "We've already seen some built-in functions, such as `print()`, `max()`, and `len()`.  But Python is meant to be used with more than just its built-in functions.\n",
        "\n",
        "Let's try to take the square root of a number in Python, using `sqrt()`:"
      ]
    },
    {
      "cell_type": "code",
      "execution_count": null,
      "metadata": {
        "id": "myIRws_q3-_2"
      },
      "outputs": [],
      "source": [
        "import math"
      ]
    },
    {
      "cell_type": "code",
      "execution_count": null,
      "metadata": {
        "id": "TRwm8CVVsSvZ"
      },
      "outputs": [],
      "source": [
        "import math as m"
      ]
    },
    {
      "cell_type": "code",
      "execution_count": null,
      "metadata": {
        "colab": {
          "base_uri": "https://localhost:8080/"
        },
        "id": "Ins8G_YcsV7g",
        "outputId": "ca94bfb6-2d79-4d98-f716-2df127b701f3"
      },
      "outputs": [
        {
          "data": {
            "text/plain": [
              "2.8284271247461903"
            ]
          },
          "execution_count": 131,
          "metadata": {
            "tags": []
          },
          "output_type": "execute_result"
        }
      ],
      "source": [
        "m.sqrt(8)"
      ]
    },
    {
      "cell_type": "markdown",
      "metadata": {
        "id": "frfNuKfY3-_6"
      },
      "source": [
        "What happened?  But I googled and saw that the square root function in Python is called `sqrt()`!\n",
        "\n",
        "### Importing libraries and using their functions\n",
        "\n",
        "Libraries are sets of Python functions that you can \"import\" to make available and use with *your* code.\n",
        "\n",
        "There are libraries that are part of Python, such as `math`, and libraries that other people write, such as `numpy`.\n",
        "\n",
        "We can import the math library into our code with:\n",
        "\n",
        "```import math```\n",
        "\n",
        "Each time we call a function that's in a library, we use the syntax ***LibraryName.FunctionName***. Adding the library name with a . before the function name tells Python where to find the function.\n",
        "\n",
        "Let's try taking that square root again:"
      ]
    },
    {
      "cell_type": "code",
      "execution_count": null,
      "metadata": {
        "colab": {
          "base_uri": "https://localhost:8080/"
        },
        "id": "RyEU0Ta83-_7",
        "outputId": "944f7ce2-c3f6-4d56-9399-5221e737c5d0"
      },
      "outputs": [
        {
          "data": {
            "text/plain": [
              "1.4142135623730951"
            ]
          },
          "execution_count": 132,
          "metadata": {
            "tags": []
          },
          "output_type": "execute_result"
        }
      ],
      "source": [
        "m.sqrt(2)"
      ]
    },
    {
      "cell_type": "code",
      "execution_count": null,
      "metadata": {
        "colab": {
          "base_uri": "https://localhost:8080/"
        },
        "id": "EMi_z9S23-_-",
        "outputId": "3dcf0ca8-b7ca-4b9a-c4b7-8bf5afe4c98e"
      },
      "outputs": [
        {
          "data": {
            "text/plain": [
              "1.4142135623730951"
            ]
          },
          "execution_count": 133,
          "metadata": {
            "tags": []
          },
          "output_type": "execute_result"
        }
      ],
      "source": [
        "math.sqrt(2)"
      ]
    },
    {
      "cell_type": "markdown",
      "metadata": {
        "id": "c0VFkQQK3_AC"
      },
      "source": [
        "And if we want, we can do something like this:\n",
        "\n",
        "```from math import sqrt```\n",
        "\n",
        "See if you can figure out what effect that had:"
      ]
    },
    {
      "cell_type": "code",
      "execution_count": null,
      "metadata": {
        "colab": {
          "base_uri": "https://localhost:8080/",
          "height": 169
        },
        "id": "t64EaSE23_AD",
        "outputId": "5e42f84e-4423-46c5-c220-f443abc98040"
      },
      "outputs": [
        {
          "ename": "NameError",
          "evalue": "ignored",
          "output_type": "error",
          "traceback": [
            "\u001b[0;31m---------------------------------------------------------------------------\u001b[0m",
            "\u001b[0;31mNameError\u001b[0m                                 Traceback (most recent call last)",
            "\u001b[0;32m<ipython-input-134-66e338417901>\u001b[0m in \u001b[0;36m<module>\u001b[0;34m()\u001b[0m\n\u001b[0;32m----> 1\u001b[0;31m \u001b[0msqrt\u001b[0m\u001b[0;34m(\u001b[0m\u001b[0;36m2\u001b[0m\u001b[0;34m)\u001b[0m\u001b[0;34m\u001b[0m\u001b[0;34m\u001b[0m\u001b[0m\n\u001b[0m",
            "\u001b[0;31mNameError\u001b[0m: name 'sqrt' is not defined"
          ]
        }
      ],
      "source": [
        "sqrt(2)"
      ]
    },
    {
      "cell_type": "markdown",
      "metadata": {
        "id": "Nl12CtpR3_AH"
      },
      "source": [
        "When might you choose\n",
        "\n",
        "```import some_library```\n",
        "\n",
        "versus\n",
        "\n",
        "```from some_library import some_function```\n",
        "\n",
        "or even\n",
        "\n",
        "```from some_library import *``` ?"
      ]
    },
    {
      "cell_type": "code",
      "execution_count": null,
      "metadata": {
        "colab": {
          "base_uri": "https://localhost:8080/"
        },
        "id": "772hLC6JsU3a",
        "outputId": "5df0e88c-77fc-4d0c-ba10-b13a33d00bfb"
      },
      "outputs": [
        {
          "name": "stdout",
          "output_type": "stream",
          "text": [
            "['__doc__', '__loader__', '__name__', '__package__', '__spec__', 'acos', 'acosh', 'asin', 'asinh', 'atan', 'atan2', 'atanh', 'ceil', 'copysign', 'cos', 'cosh', 'degrees', 'e', 'erf', 'erfc', 'exp', 'expm1', 'fabs', 'factorial', 'floor', 'fmod', 'frexp', 'fsum', 'gamma', 'gcd', 'hypot', 'inf', 'isclose', 'isfinite', 'isinf', 'isnan', 'ldexp', 'lgamma', 'log', 'log10', 'log1p', 'log2', 'modf', 'nan', 'pi', 'pow', 'radians', 'remainder', 'sin', 'sinh', 'sqrt', 'tan', 'tanh', 'tau', 'trunc']\n"
          ]
        }
      ],
      "source": [
        "x = dir(math)\n",
        "print(x)"
      ]
    },
    {
      "cell_type": "markdown",
      "metadata": {
        "id": "CX966Y2x3_AH"
      },
      "source": [
        "### Writing our own functions\n",
        "\n",
        "What if we want to write our own functions?\n",
        "\n",
        "Defining part of a program in Python as a function is done using the `def` keyword. For example a function that takes a temperature in degrees Fahrenheit and returns the temperature in degrees Celsius:"
      ]
    },
    {
      "cell_type": "code",
      "execution_count": null,
      "metadata": {
        "id": "V5_TRo5m3_AI"
      },
      "outputs": [],
      "source": [
        "def fahreinheit2celcius(temp_fahr):\n",
        "  temp_celsius = (temp_fahr -32)*5/9\n",
        "  return temp_celsius"
      ]
    },
    {
      "cell_type": "markdown",
      "metadata": {
        "id": "7vkUoEVj3_AK"
      },
      "source": [
        "Now we can use it:"
      ]
    },
    {
      "cell_type": "code",
      "execution_count": null,
      "metadata": {
        "colab": {
          "base_uri": "https://localhost:8080/"
        },
        "id": "9jZ9c_DV3_AM",
        "outputId": "47b1931a-608f-4eca-e03c-4524dd3df012"
      },
      "outputs": [
        {
          "name": "stdout",
          "output_type": "stream",
          "text": [
            "37.77777777777778\n"
          ]
        }
      ],
      "source": [
        "c=fahreinheit2celcius(100)\n",
        "print(c)"
      ]
    },
    {
      "cell_type": "markdown",
      "metadata": {
        "id": "4OepVVOi3_AQ"
      },
      "source": [
        "### What's variable \"scope\"?"
      ]
    },
    {
      "cell_type": "markdown",
      "metadata": {
        "id": "XdushatC3_AS"
      },
      "source": [
        "Let's say we had defined our function like this, using a variable called `ratio` instead of `5/9`:"
      ]
    },
    {
      "cell_type": "code",
      "execution_count": null,
      "metadata": {
        "id": "DsarEKmX3_AU"
      },
      "outputs": [],
      "source": [
        "#scope 망원경 (내재되는 내용은 반영 안됨)\n",
        "def fahreinheit2celcius(temp_fahr):\n",
        "   ratio = 5/9\n",
        "   temp_celsius = (temp_fahr -32)*ratio \n",
        "   return temp_celsius"
      ]
    },
    {
      "cell_type": "markdown",
      "metadata": {
        "id": "yW-oe1L53_AX"
      },
      "source": [
        "What happens if we then try to print `ratio`?"
      ]
    },
    {
      "cell_type": "code",
      "execution_count": null,
      "metadata": {
        "colab": {
          "base_uri": "https://localhost:8080/",
          "height": 169
        },
        "id": "j-NKGKtU3_AX",
        "outputId": "5b2cd818-50ab-4371-d0d0-c10df205f745"
      },
      "outputs": [
        {
          "ename": "NameError",
          "evalue": "ignored",
          "output_type": "error",
          "traceback": [
            "\u001b[0;31m---------------------------------------------------------------------------\u001b[0m",
            "\u001b[0;31mNameError\u001b[0m                                 Traceback (most recent call last)",
            "\u001b[0;32m<ipython-input-140-f32d53a42e26>\u001b[0m in \u001b[0;36m<module>\u001b[0;34m()\u001b[0m\n\u001b[0;32m----> 1\u001b[0;31m \u001b[0mprint\u001b[0m\u001b[0;34m(\u001b[0m\u001b[0mratio\u001b[0m\u001b[0;34m)\u001b[0m\u001b[0;34m\u001b[0m\u001b[0;34m\u001b[0m\u001b[0m\n\u001b[0m",
            "\u001b[0;31mNameError\u001b[0m: name 'ratio' is not defined"
          ]
        }
      ],
      "source": [
        "print(ratio)\n",
        "#내부적으로 정의된 내용은 print가 안됨됨"
      ]
    },
    {
      "cell_type": "markdown",
      "metadata": {
        "id": "WC9o75sM3_Aa"
      },
      "source": [
        "Why did we get this error?"
      ]
    },
    {
      "cell_type": "code",
      "execution_count": null,
      "metadata": {
        "colab": {
          "base_uri": "https://localhost:8080/"
        },
        "id": "GCPUlPkQtlw0",
        "outputId": "fa7d6dea-3fa5-477c-ea1b-0709de45249c"
      },
      "outputs": [
        {
          "name": "stdout",
          "output_type": "stream",
          "text": [
            "37.77777777777778\n"
          ]
        }
      ],
      "source": [
        "c= fahreinheit2celcius(100)\n",
        "print(c)"
      ]
    },
    {
      "cell_type": "markdown",
      "metadata": {
        "id": "g9N_jn5N3_Ab"
      },
      "source": [
        "### A bit more about passing values to functions\n",
        "\n",
        "Remember earlier how we graded test scores on a curve?  Let's make a function to do that.  We'll pass it the individual test score, and the top score that will be our new \"100%\":"
      ]
    },
    {
      "cell_type": "code",
      "execution_count": null,
      "metadata": {
        "id": "-GcixbEK3_Ab"
      },
      "outputs": [],
      "source": [
        "def curve(score, top_score =90):\n",
        "  return 100*score/top_score"
      ]
    },
    {
      "cell_type": "code",
      "execution_count": null,
      "metadata": {
        "colab": {
          "base_uri": "https://localhost:8080/"
        },
        "id": "P0R-7Yj23_Ae",
        "outputId": "0b86cdfe-c6b9-42cd-a3b8-7886aed1dd9f"
      },
      "outputs": [
        {
          "data": {
            "text/plain": [
              "98.88888888888889"
            ]
          },
          "execution_count": 145,
          "metadata": {
            "tags": []
          },
          "output_type": "execute_result"
        }
      ],
      "source": [
        "curve(89)\n",
        "#top_score을 기준으로 환산한 점수"
      ]
    },
    {
      "cell_type": "code",
      "execution_count": null,
      "metadata": {
        "colab": {
          "base_uri": "https://localhost:8080/",
          "height": 169
        },
        "id": "w6S2iZbQt2W8",
        "outputId": "fa9e98d8-2f8a-4369-a275-8f65c67bdedc"
      },
      "outputs": [
        {
          "ename": "TypeError",
          "evalue": "ignored",
          "output_type": "error",
          "traceback": [
            "\u001b[0;31m---------------------------------------------------------------------------\u001b[0m",
            "\u001b[0;31mTypeError\u001b[0m                                 Traceback (most recent call last)",
            "\u001b[0;32m<ipython-input-146-bd05bd176bbb>\u001b[0m in \u001b[0;36m<module>\u001b[0;34m()\u001b[0m\n\u001b[0;32m----> 1\u001b[0;31m \u001b[0mcurve\u001b[0m\u001b[0;34m(\u001b[0m\u001b[0;34m)\u001b[0m\u001b[0;34m\u001b[0m\u001b[0;34m\u001b[0m\u001b[0m\n\u001b[0m",
            "\u001b[0;31mTypeError\u001b[0m: curve() missing 1 required positional argument: 'score'"
          ]
        }
      ],
      "source": [
        "curve()"
      ]
    },
    {
      "cell_type": "markdown",
      "metadata": {
        "id": "NUToYKAP3_Ah"
      },
      "source": [
        "Now, if we specify which parameter is which, we can pass them in any order we like!"
      ]
    },
    {
      "cell_type": "code",
      "execution_count": null,
      "metadata": {
        "colab": {
          "base_uri": "https://localhost:8080/"
        },
        "id": "d7FBU31y3_Ah",
        "outputId": "32ee7f5e-b1c3-4487-805b-011e95e4bcc3"
      },
      "outputs": [
        {
          "data": {
            "text/plain": [
              "92.70833333333333"
            ]
          },
          "execution_count": 148,
          "metadata": {
            "tags": []
          },
          "output_type": "execute_result"
        }
      ],
      "source": [
        "curve(top_score =96, score =89)\n",
        "# 순서는 상관없음"
      ]
    },
    {
      "cell_type": "code",
      "execution_count": null,
      "metadata": {
        "id": "RbY7FN1XhoAf"
      },
      "outputs": [],
      "source": []
    },
    {
      "cell_type": "markdown",
      "metadata": {
        "id": "nxyRDcl-3_Aj"
      },
      "source": [
        "Key points here:\n",
        "\n",
        "- definition starts with **`def`**\n",
        "- function body is indented\n",
        "- parameters are matched \"in order\", unless we specify them by name\n",
        "- **`return`** keyword precedes returned value\n"
      ]
    },
    {
      "cell_type": "markdown",
      "metadata": {
        "id": "oJE-7t2j3_Aj"
      },
      "source": [
        "### Challenge\n",
        "\n",
        "Can you create a function called `pad` that would take a list and pads it with some new item if it's less than the length you want?  You would use it like this:\n",
        "\n",
        "```\n",
        "names = ['Ali', 'Bob', 'Carla']\n",
        "names = pad(names, 5, '*')\n",
        "```\n",
        "Then `names` would evaluate to:\n",
        "```\n",
        "['Ali', 'Bob', 'Carla', '*', '*']\n",
        "```"
      ]
    },
    {
      "cell_type": "code",
      "execution_count": null,
      "metadata": {
        "id": "IjVCOVNs3_Ak"
      },
      "outputs": [],
      "source": [
        "def pad(mylist, newlength, padstring = ''):\n",
        "  padlength = newlength - len(mylist)\n",
        "  padlist = [padstring] * padlength\n",
        "  newlist = mylist + padlist\n",
        "\n",
        "  return newlist\n"
      ]
    },
    {
      "cell_type": "code",
      "execution_count": null,
      "metadata": {
        "colab": {
          "base_uri": "https://localhost:8080/"
        },
        "id": "tgrmuzBt3_Am",
        "outputId": "95366fb0-7b1b-4070-97e1-eb6661a0d650"
      },
      "outputs": [
        {
          "data": {
            "text/plain": [
              "['A', 'B', 'C', '강민', '강민', '강민', '강민', '강민', '강민', '강민']"
            ]
          },
          "execution_count": 161,
          "metadata": {
            "tags": []
          },
          "output_type": "execute_result"
        }
      ],
      "source": [
        "pad(['A', 'B', 'C'],10, '강민')"
      ]
    },
    {
      "cell_type": "code",
      "execution_count": null,
      "metadata": {
        "id": "Ekuc46643_Ao"
      },
      "outputs": [],
      "source": []
    }
  ],
  "metadata": {
    "colab": {
      "collapsed_sections": [],
      "provenance": []
    },
    "kernelspec": {
      "display_name": "Python 3.8.5 ('base')",
      "language": "python",
      "name": "python3"
    },
    "language_info": {
      "codemirror_mode": {
        "name": "ipython",
        "version": 3
      },
      "file_extension": ".py",
      "mimetype": "text/x-python",
      "name": "python",
      "nbconvert_exporter": "python",
      "pygments_lexer": "ipython3",
      "version": "3.8.5"
    },
    "vscode": {
      "interpreter": {
        "hash": "ef75543f077cf0781ffc5301654ade0bb7c012622b0fb3f7f297d0cc766fd26c"
      }
    }
  },
  "nbformat": 4,
  "nbformat_minor": 0
}
