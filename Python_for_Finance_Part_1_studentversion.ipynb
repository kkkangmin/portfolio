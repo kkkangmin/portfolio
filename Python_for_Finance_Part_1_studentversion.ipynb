{
  "nbformat": 4,
  "nbformat_minor": 0,
  "metadata": {
    "colab": {
      "provenance": [],
      "collapsed_sections": []
    },
    "kernelspec": {
      "display_name": "Python 3",
      "language": "python",
      "name": "python3"
    }
  },
  "cells": [
    {
      "cell_type": "markdown",
      "metadata": {
        "collapsed": true,
        "id": "VCn4ocPf3-9g"
      },
      "source": [
        "# **Welcome to the Financial Programming with Python**\n",
        "\n",
        "### Quick tips\n",
        "\n",
        "When working in a Google Colaboratory notebook, **Shift-Return (Shift-Enter)** runs the cell you're on.  You can also run the cell using the \"Play\" button at the left edge of the cell.\n",
        "\n",
        "There are many other keyboard shortcuts.  You can access the list via the menu bar, at **Tools-->Command palette**.  In fact, you can even customize your keyboard shortcuts using **Tools-->Keyboard shortcuts**.\n",
        "\n",
        "\n",
        "> (If you're working in an Anaconda/Jupyter notebook:\n",
        "- Shift-Return (Shift-Enter) runs the cell you're on.  You can also run the cell using the \"Play\" button in the toolbar.\n",
        "- Esc, then A inserts a cell above where you are.\n",
        "- Esc, then B inserts a cell below where you are.\n",
        "- More shortcuts under Help --> Keyboard Shortcuts)\n",
        "\n",
        "\n",
        "You will probably get some errors in working through this notebook.  That's okay, you can just go back and change the cell and re-run it.\n",
        "\n",
        "The notebook auto-saves as you work, just like gmail and most Google apps.\n",
        "\n",
        "\n",
        "\n",
        "\n",
        "\n",
        "# Variables\n",
        "\n",
        "The first thing we're going to do is to learn about **variables**.  Variables are a way to store values that can be numbers, text, lists, boolean (true/false), etc.\n",
        "\n",
        "Much like in algebra, you set the value of a variable using what looks like an equation.\n",
        "\n",
        "To run this next cell, click on it and either press Shift-Enter, or press the Play (\"run cell\") button in the toolbar."
      ]
    },
    {
      "cell_type": "code",
      "metadata": {
        "id": "Hih5T6rp3-9h"
      },
      "source": [
        "price = 7.99"
      ],
      "execution_count": null,
      "outputs": []
    },
    {
      "cell_type": "markdown",
      "metadata": {
        "id": "RG28W_Rp3-9l"
      },
      "source": [
        "So let's see the effect of that, by having Python **evaluate** our variable called `price`.  Again, press Shift-Enter, or press the Play (\"run cell\") button in the toolbar."
      ]
    },
    {
      "cell_type": "code",
      "metadata": {
        "id": "escqhnnT3-9m",
        "colab": {
          "base_uri": "https://localhost:8080/"
        },
        "outputId": "7ba0f596-81bc-4a41-af00-7411392117a4"
      },
      "source": [
        "price"
      ],
      "execution_count": null,
      "outputs": [
        {
          "output_type": "execute_result",
          "data": {
            "text/plain": [
              "7.99"
            ]
          },
          "metadata": {
            "tags": []
          },
          "execution_count": 2
        }
      ]
    },
    {
      "cell_type": "markdown",
      "metadata": {
        "id": "mIfP3fMy3-9p"
      },
      "source": [
        "Next, set the value of a new variable to your name.   A couple of things you'll need to know:\n",
        "* Variable names can't contain spaces or special characters (except `_` )\n",
        "* String values (like words or text) must be contained in a pair of either matching single quotes or matching double quotes.  For example:  `'This is some text'` or `\"This is some text\"`"
      ]
    },
    {
      "cell_type": "code",
      "metadata": {
        "id": "BG1S-FXf3-9q"
      },
      "source": [
        "name = '재무계산프로그래밍'"
      ],
      "execution_count": null,
      "outputs": []
    },
    {
      "cell_type": "code",
      "metadata": {
        "id": "PSv1a1_v3-9t",
        "colab": {
          "base_uri": "https://localhost:8080/",
          "height": 35
        },
        "outputId": "08753427-1daf-4f6b-d27e-12ffa4ee818a"
      },
      "source": [
        "name"
      ],
      "execution_count": null,
      "outputs": [
        {
          "output_type": "execute_result",
          "data": {
            "application/vnd.google.colaboratory.intrinsic+json": {
              "type": "string"
            },
            "text/plain": [
              "'재무계산프로그래밍'"
            ]
          },
          "metadata": {
            "tags": []
          },
          "execution_count": 5
        }
      ]
    },
    {
      "cell_type": "markdown",
      "metadata": {
        "id": "lejV-TVE3-9w"
      },
      "source": [
        "If you have another language installed on your computer (Chinese, Arabic, etc.), try using foreign characters in your string.  Python 3 handles these well.\n",
        "\n",
        "An example might be: \n",
        "\n",
        "```\n",
        "someText = 'سلام'\n",
        "```\n",
        "\n"
      ]
    },
    {
      "cell_type": "code",
      "metadata": {
        "id": "wm-rlMl03-9x"
      },
      "source": [
        "someText = '김강민'"
      ],
      "execution_count": null,
      "outputs": []
    },
    {
      "cell_type": "code",
      "metadata": {
        "id": "d8E1IcvLbYIE",
        "colab": {
          "base_uri": "https://localhost:8080/",
          "height": 35
        },
        "outputId": "30b50fb6-bc99-4e06-c2dc-6ca5ff3d7369"
      },
      "source": [
        "someText"
      ],
      "execution_count": null,
      "outputs": [
        {
          "output_type": "execute_result",
          "data": {
            "application/vnd.google.colaboratory.intrinsic+json": {
              "type": "string"
            },
            "text/plain": [
              "'김강민'"
            ]
          },
          "metadata": {
            "tags": []
          },
          "execution_count": 7
        }
      ]
    },
    {
      "cell_type": "markdown",
      "metadata": {
        "id": "KE4xtx2P3-90"
      },
      "source": [
        "What if we wanted to do some simple math using these variables?\n",
        "\n",
        "* Create a new variable called `quantity` and set it to a number.\n",
        "* Create another new variable called `extended_price` and set it to the product of price \\* quantity (use `*` for multiplying)\n"
      ]
    },
    {
      "cell_type": "code",
      "metadata": {
        "id": "02eJwKZG3-91"
      },
      "source": [
        "quantity = 5\n",
        "extnded_price = price * quantity"
      ],
      "execution_count": null,
      "outputs": []
    },
    {
      "cell_type": "code",
      "metadata": {
        "id": "M7ZiRtsncIpz",
        "colab": {
          "base_uri": "https://localhost:8080/"
        },
        "outputId": "227c9662-3031-4861-9d0c-6d8023306696"
      },
      "source": [
        "extnded_price"
      ],
      "execution_count": null,
      "outputs": [
        {
          "output_type": "execute_result",
          "data": {
            "text/plain": [
              "39.95"
            ]
          },
          "metadata": {
            "tags": []
          },
          "execution_count": 11
        }
      ]
    },
    {
      "cell_type": "markdown",
      "metadata": {
        "id": "WGwHjIGQ3-94"
      },
      "source": [
        "\n",
        "What happens if you try multiplying the name variable by 4?"
      ]
    },
    {
      "cell_type": "code",
      "metadata": {
        "id": "rxnXu5X83-95",
        "colab": {
          "base_uri": "https://localhost:8080/",
          "height": 35
        },
        "outputId": "f3bcde43-cafd-4fd4-c08c-87d7a0dcd190"
      },
      "source": [
        "someText * 4"
      ],
      "execution_count": null,
      "outputs": [
        {
          "output_type": "execute_result",
          "data": {
            "application/vnd.google.colaboratory.intrinsic+json": {
              "type": "string"
            },
            "text/plain": [
              "'김강민김강민김강민김강민'"
            ]
          },
          "metadata": {
            "tags": []
          },
          "execution_count": 12
        }
      ]
    },
    {
      "cell_type": "markdown",
      "metadata": {
        "id": "C7AwupUb3-98"
      },
      "source": [
        "How about if you *divide* it by 2?  Add a number to it?  Add another name to it (using `+`)?"
      ]
    },
    {
      "cell_type": "code",
      "metadata": {
        "id": "Tzo39Wuw3-9_",
        "colab": {
          "base_uri": "https://localhost:8080/",
          "height": 35
        },
        "outputId": "3685ee02-eb90-41d2-ee45-81acb9ca60c3"
      },
      "source": [
        "someText + '멋있다'"
      ],
      "execution_count": null,
      "outputs": [
        {
          "output_type": "execute_result",
          "data": {
            "application/vnd.google.colaboratory.intrinsic+json": {
              "type": "string"
            },
            "text/plain": [
              "'김강민멋있다'"
            ]
          },
          "metadata": {
            "tags": []
          },
          "execution_count": 13
        }
      ]
    },
    {
      "cell_type": "code",
      "metadata": {
        "id": "l9Zc9CC9c9A0"
      },
      "source": [
        "name = name + 'handsome어렵다'"
      ],
      "execution_count": null,
      "outputs": []
    },
    {
      "cell_type": "code",
      "metadata": {
        "id": "KwPGLPkDdGxV",
        "colab": {
          "base_uri": "https://localhost:8080/",
          "height": 35
        },
        "outputId": "a7737af6-a5b7-4f59-cc3c-ff3886576bd3"
      },
      "source": [
        "name"
      ],
      "execution_count": null,
      "outputs": [
        {
          "output_type": "execute_result",
          "data": {
            "application/vnd.google.colaboratory.intrinsic+json": {
              "type": "string"
            },
            "text/plain": [
              "'재무계산프로그래밍handsome어렵다어렵다handsome어렵다'"
            ]
          },
          "metadata": {
            "tags": []
          },
          "execution_count": 23
        }
      ]
    },
    {
      "cell_type": "markdown",
      "metadata": {
        "id": "Xm-RztaA3--C"
      },
      "source": [
        "What we're starting to see here is that Python has different **types** for numbers, text, and more.  You can find out the type of a variable by using:\n",
        "\n",
        "**`type(`**put your variable here**`)`** \n",
        "\n",
        "Try it."
      ]
    },
    {
      "cell_type": "code",
      "metadata": {
        "id": "sYpL6SxR3--D",
        "colab": {
          "base_uri": "https://localhost:8080/"
        },
        "outputId": "508e3286-0e29-4ee2-a21b-d791ef133362"
      },
      "source": [
        "type(name)"
      ],
      "execution_count": null,
      "outputs": [
        {
          "output_type": "execute_result",
          "data": {
            "text/plain": [
              "str"
            ]
          },
          "metadata": {
            "tags": []
          },
          "execution_count": 32
        }
      ]
    },
    {
      "cell_type": "markdown",
      "metadata": {
        "id": "arl0WWLQ3--F"
      },
      "source": [
        "Numbers, by the way, aren't just numbers.  Look at the type of the `price` variable versus another variable set to `7`.\n",
        "\n",
        "You can even re-assign an existing variable to new type.  Try it!\n",
        "\n",
        "With type() function, you can identify the number is whether float, int, stirng \n"
      ]
    },
    {
      "cell_type": "code",
      "metadata": {
        "id": "xWcahPaM3--I",
        "colab": {
          "base_uri": "https://localhost:8080/"
        },
        "outputId": "5b7565f1-fc69-459d-9fd5-646dcec9a0cd"
      },
      "source": [
        "price = 7\n",
        "type(price)"
      ],
      "execution_count": null,
      "outputs": [
        {
          "output_type": "execute_result",
          "data": {
            "text/plain": [
              "int"
            ]
          },
          "metadata": {
            "tags": []
          },
          "execution_count": 25
        }
      ]
    },
    {
      "cell_type": "markdown",
      "metadata": {
        "id": "w_GGZDIm3--L"
      },
      "source": [
        "There's also another important basic variable type, called a **boolean** variable.  Booleans can have a value of **`True`** or **`False`** (capitalized, in Python)\n",
        "\n",
        "Create a variable called `ajoustudent` and assign its value to `True`:"
      ]
    },
    {
      "cell_type": "code",
      "metadata": {
        "id": "ofmS7ztUd3La"
      },
      "source": [
        "ajoustudent = True"
      ],
      "execution_count": null,
      "outputs": []
    },
    {
      "cell_type": "code",
      "metadata": {
        "id": "fmoWI8iJ3--L",
        "colab": {
          "base_uri": "https://localhost:8080/"
        },
        "outputId": "5a0fb19e-372d-4438-d038-182f7c5e0706"
      },
      "source": [
        "type(ajoustudent)"
      ],
      "execution_count": null,
      "outputs": [
        {
          "output_type": "execute_result",
          "data": {
            "text/plain": [
              "bool"
            ]
          },
          "metadata": {
            "tags": []
          },
          "execution_count": 31
        }
      ]
    },
    {
      "cell_type": "markdown",
      "metadata": {
        "id": "ZELnzZg83--N"
      },
      "source": [
        "Now evaluate the `type()` of ajoustudent."
      ]
    },
    {
      "cell_type": "code",
      "metadata": {
        "id": "OdJNjqCq3--O"
      },
      "source": [],
      "execution_count": null,
      "outputs": []
    },
    {
      "cell_type": "markdown",
      "metadata": {
        "id": "jpIN2CC53--P"
      },
      "source": [
        "#### Comparison operators:  <, >, ==, !=, <=, >=, and, or, not, ...\n",
        "\n",
        "Try out some comparisons, for example, whether:\n",
        "* `price` is greater than 5.99\n",
        "* `name` is equal to \"Dan\""
      ]
    },
    {
      "cell_type": "code",
      "metadata": {
        "id": "qUm9mdD03--R",
        "colab": {
          "base_uri": "https://localhost:8080/"
        },
        "outputId": "4dc7328e-ab42-4bd1-97c5-128ed62dc6ef"
      },
      "source": [
        "price > 5.99"
      ],
      "execution_count": null,
      "outputs": [
        {
          "output_type": "execute_result",
          "data": {
            "text/plain": [
              "True"
            ]
          },
          "metadata": {
            "tags": []
          },
          "execution_count": 33
        }
      ]
    },
    {
      "cell_type": "code",
      "metadata": {
        "id": "7QwPCgYQeiX7"
      },
      "source": [
        "name = 'Dan'"
      ],
      "execution_count": null,
      "outputs": []
    },
    {
      "cell_type": "code",
      "metadata": {
        "id": "mKdar6Q_esDl",
        "colab": {
          "base_uri": "https://localhost:8080/"
        },
        "outputId": "47e81158-792a-49b1-98ec-70df3e2c19c2"
      },
      "source": [
        "name == 'Dan'"
      ],
      "execution_count": null,
      "outputs": [
        {
          "output_type": "execute_result",
          "data": {
            "text/plain": [
              "True"
            ]
          },
          "metadata": {
            "tags": []
          },
          "execution_count": 35
        }
      ]
    },
    {
      "cell_type": "code",
      "metadata": {
        "id": "Uz1sJSzPexIi",
        "colab": {
          "base_uri": "https://localhost:8080/"
        },
        "outputId": "d3976050-a7fa-4481-8af6-f066bb80202e"
      },
      "source": [
        "price == 9.50"
      ],
      "execution_count": null,
      "outputs": [
        {
          "output_type": "execute_result",
          "data": {
            "text/plain": [
              "False"
            ]
          },
          "metadata": {
            "tags": []
          },
          "execution_count": 36
        }
      ]
    },
    {
      "cell_type": "code",
      "metadata": {
        "id": "HBUdtq7FfDoU",
        "colab": {
          "base_uri": "https://localhost:8080/"
        },
        "outputId": "c1eb2d8c-6921-4b49-964a-b35203653109"
      },
      "source": [
        "(price == 9.50) and (name == 'Dan')"
      ],
      "execution_count": null,
      "outputs": [
        {
          "output_type": "execute_result",
          "data": {
            "text/plain": [
              "False"
            ]
          },
          "metadata": {
            "tags": []
          },
          "execution_count": 37
        }
      ]
    },
    {
      "cell_type": "code",
      "metadata": {
        "id": "S_829RVkfOLq"
      },
      "source": [],
      "execution_count": null,
      "outputs": []
    },
    {
      "cell_type": "markdown",
      "metadata": {
        "id": "oe-XFxuD3--T"
      },
      "source": [
        "# Lists and Tuples"
      ]
    },
    {
      "cell_type": "markdown",
      "metadata": {
        "id": "Ay50GND03--U"
      },
      "source": [
        "**Lists** in Python hold an _ordered_ sequence of elements, like this:\n",
        "\n",
        "`states = ['Virginia', 'Maryland', 'New Jersey', 'Utah', 'Rhode Island']`\n",
        "\n",
        "Try creating a list of several countries."
      ]
    },
    {
      "cell_type": "code",
      "metadata": {
        "id": "Tj5OYx1F3--V"
      },
      "source": [
        "countries = ['Canada', 'Uganda', 'Australia', 'Russia', 'France', 'China']"
      ],
      "execution_count": null,
      "outputs": []
    },
    {
      "cell_type": "markdown",
      "metadata": {
        "id": "-YGuf5dq3--Y"
      },
      "source": [
        "We can access the n'th element of a list using the `mylist[n]` notation.\n",
        "\n",
        "Try retrieving the first country in the list you created above."
      ]
    },
    {
      "cell_type": "code",
      "metadata": {
        "id": "V6YHSvmA3--Z",
        "colab": {
          "base_uri": "https://localhost:8080/",
          "height": 35
        },
        "outputId": "b8156a30-15f3-41ef-b033-d4db5025a32f"
      },
      "source": [
        "countries[0]"
      ],
      "execution_count": null,
      "outputs": [
        {
          "output_type": "execute_result",
          "data": {
            "application/vnd.google.colaboratory.intrinsic+json": {
              "type": "string"
            },
            "text/plain": [
              "'Canada'"
            ]
          },
          "metadata": {
            "tags": []
          },
          "execution_count": 52
        }
      ]
    },
    {
      "cell_type": "markdown",
      "metadata": {
        "id": "bQM_djA33--c"
      },
      "source": [
        "Notice that in Python, the first element of the list is really the \"0th\" element (this is not the case when programming in R!)\n",
        "\n",
        "You can also access parts of the list using syntax like: [0:2], [:2], [3:], [-2],[-2:].  See if you can figure out what these do."
      ]
    },
    {
      "cell_type": "code",
      "metadata": {
        "id": "P1w-jAVt3--c",
        "colab": {
          "base_uri": "https://localhost:8080/"
        },
        "outputId": "397b6fe6-a1d8-4cfc-d165-7ca9bcc00f7b"
      },
      "source": [
        "countries[1:3]"
      ],
      "execution_count": null,
      "outputs": [
        {
          "output_type": "execute_result",
          "data": {
            "text/plain": [
              "['Uganda', 'Australia']"
            ]
          },
          "metadata": {
            "tags": []
          },
          "execution_count": 53
        }
      ]
    },
    {
      "cell_type": "code",
      "metadata": {
        "id": "iKON6p_I3--e",
        "colab": {
          "base_uri": "https://localhost:8080/"
        },
        "outputId": "786bce07-2061-4df8-a677-8fd4dd3604ba"
      },
      "source": [
        "countries[0:2]"
      ],
      "execution_count": null,
      "outputs": [
        {
          "output_type": "execute_result",
          "data": {
            "text/plain": [
              "['Canada', 'Uganda']"
            ]
          },
          "metadata": {
            "tags": []
          },
          "execution_count": 59
        }
      ]
    },
    {
      "cell_type": "code",
      "metadata": {
        "id": "ZT1BnMI7ga-x",
        "colab": {
          "base_uri": "https://localhost:8080/"
        },
        "outputId": "f07a25ec-cea0-49db-f1a7-deecd18b18f8"
      },
      "source": [
        "countries[-2:5]"
      ],
      "execution_count": null,
      "outputs": [
        {
          "output_type": "execute_result",
          "data": {
            "text/plain": [
              "['France']"
            ]
          },
          "metadata": {
            "tags": []
          },
          "execution_count": 58
        }
      ]
    },
    {
      "cell_type": "code",
      "metadata": {
        "id": "H5o8_VBJggrA",
        "colab": {
          "base_uri": "https://localhost:8080/",
          "height": 35
        },
        "outputId": "f827779f-3de4-4c0e-b9e8-e4cc484b3de2"
      },
      "source": [
        "countries[-1]"
      ],
      "execution_count": null,
      "outputs": [
        {
          "output_type": "execute_result",
          "data": {
            "application/vnd.google.colaboratory.intrinsic+json": {
              "type": "string"
            },
            "text/plain": [
              "'China'"
            ]
          },
          "metadata": {
            "tags": []
          },
          "execution_count": 56
        }
      ]
    },
    {
      "cell_type": "code",
      "metadata": {
        "id": "P4qb9klbgkpU"
      },
      "source": [],
      "execution_count": null,
      "outputs": []
    },
    {
      "cell_type": "markdown",
      "metadata": {
        "id": "-uQfEZhi3--g"
      },
      "source": [
        "Lists come with useful functions, like `len(mylist)` which returns the** length of the list**.  Try using `len()`"
      ]
    },
    {
      "cell_type": "code",
      "metadata": {
        "id": "dducksREgj5x",
        "colab": {
          "base_uri": "https://localhost:8080/"
        },
        "outputId": "fefd2073-985d-4bb0-a2cd-abd79fbcaee0"
      },
      "source": [
        "len(countries)"
      ],
      "execution_count": null,
      "outputs": [
        {
          "output_type": "execute_result",
          "data": {
            "text/plain": [
              "6"
            ]
          },
          "metadata": {
            "tags": []
          },
          "execution_count": 57
        }
      ]
    },
    {
      "cell_type": "code",
      "metadata": {
        "id": "1l8dgYI-3--g"
      },
      "source": [],
      "execution_count": null,
      "outputs": []
    },
    {
      "cell_type": "markdown",
      "metadata": {
        "id": "53lEIr323--i"
      },
      "source": [
        "What if you wanted to add an element to a list?  Or remove an element from a list?  Try using:\n",
        "\n",
        "`mylist.append(<the new element>)`\n",
        "for example, `states.append('New York')`"
      ]
    },
    {
      "cell_type": "code",
      "metadata": {
        "id": "1zzMmhQc3--k",
        "colab": {
          "base_uri": "https://localhost:8080/"
        },
        "outputId": "3ec67498-c16f-4fa9-df7b-10880065c987"
      },
      "source": [
        "countries.append('Spain')\n",
        "countries"
      ],
      "execution_count": null,
      "outputs": [
        {
          "output_type": "execute_result",
          "data": {
            "text/plain": [
              "['Canada', 'Uganda', 'Australia', 'Russia', 'France', 'China', 'Spain']"
            ]
          },
          "metadata": {
            "tags": []
          },
          "execution_count": 60
        }
      ]
    },
    {
      "cell_type": "code",
      "metadata": {
        "id": "MKsj3m81hVlr",
        "colab": {
          "base_uri": "https://localhost:8080/"
        },
        "outputId": "2c44df67-a10c-4cd4-fbde-6f5a06ae5324"
      },
      "source": [
        "countries.reverse()\n",
        "countries"
      ],
      "execution_count": null,
      "outputs": [
        {
          "output_type": "execute_result",
          "data": {
            "text/plain": [
              "['Spain', 'China', 'France', 'Russia', 'Australia', 'Uganda', 'Canada']"
            ]
          },
          "metadata": {
            "tags": []
          },
          "execution_count": 63
        }
      ]
    },
    {
      "cell_type": "code",
      "metadata": {
        "id": "4_XTyaPrhKc1"
      },
      "source": [
        "countries.insert(5,'Mexico')"
      ],
      "execution_count": null,
      "outputs": []
    },
    {
      "cell_type": "code",
      "metadata": {
        "id": "wgEOvOYNhuqx",
        "colab": {
          "base_uri": "https://localhost:8080/"
        },
        "outputId": "a03e6d14-4334-4204-8902-b49372f9a406"
      },
      "source": [
        "countries"
      ],
      "execution_count": null,
      "outputs": [
        {
          "output_type": "execute_result",
          "data": {
            "text/plain": [
              "['Spain',\n",
              " 'China',\n",
              " 'France',\n",
              " 'Russia',\n",
              " 'Australia',\n",
              " 'Mexico',\n",
              " 'Uganda',\n",
              " 'Canada']"
            ]
          },
          "metadata": {
            "tags": []
          },
          "execution_count": 65
        }
      ]
    },
    {
      "cell_type": "code",
      "metadata": {
        "id": "TQMiXjJgiDDJ",
        "colab": {
          "base_uri": "https://localhost:8080/"
        },
        "outputId": "5c34e210-1afe-4dc9-9f45-3d9c541e63f5"
      },
      "source": [
        "countries[0] = 'Italy'\n",
        "countries"
      ],
      "execution_count": null,
      "outputs": [
        {
          "output_type": "execute_result",
          "data": {
            "text/plain": [
              "['Italy',\n",
              " 'Egypt',\n",
              " 'France',\n",
              " 'Russia',\n",
              " 'Australia',\n",
              " 'Mexico',\n",
              " 'Uganda',\n",
              " 'Canada']"
            ]
          },
          "metadata": {
            "tags": []
          },
          "execution_count": 69
        }
      ]
    },
    {
      "cell_type": "code",
      "metadata": {
        "id": "PjRv9069iFVJ",
        "colab": {
          "base_uri": "https://localhost:8080/"
        },
        "outputId": "fb71a129-a76d-4fad-c06a-906022d9a21d"
      },
      "source": [
        "countries\n",
        "countries[0:2] = ['Algeria', 'Egypt']\n",
        "countries"
      ],
      "execution_count": null,
      "outputs": [
        {
          "output_type": "execute_result",
          "data": {
            "text/plain": [
              "['Algeria',\n",
              " 'Egypt',\n",
              " 'France',\n",
              " 'Russia',\n",
              " 'Australia',\n",
              " 'Mexico',\n",
              " 'Uganda',\n",
              " 'Canada']"
            ]
          },
          "metadata": {
            "tags": []
          },
          "execution_count": 68
        }
      ]
    },
    {
      "cell_type": "markdown",
      "metadata": {
        "collapsed": true,
        "id": "hzf2U3nM3--l"
      },
      "source": [
        "There are also list functions to do things like insert, remove, sort, reverse.  You can also use the `+` operator to add lists together. You can even multiply a list by a number, similar to how earlier we multiplied a string by a number!\n",
        "\n",
        "Try adding a list of two new states to your list."
      ]
    },
    {
      "cell_type": "code",
      "metadata": {
        "id": "rRGveMZ1iB7d",
        "colab": {
          "base_uri": "https://localhost:8080/"
        },
        "outputId": "6a70dba7-2263-4aa0-e24c-bca1c31d51bf"
      },
      "source": [
        "type(True)"
      ],
      "execution_count": null,
      "outputs": [
        {
          "output_type": "execute_result",
          "data": {
            "text/plain": [
              "bool"
            ]
          },
          "metadata": {
            "tags": []
          },
          "execution_count": 4
        }
      ]
    },
    {
      "cell_type": "code",
      "metadata": {
        "id": "7Vzuhhuv3--m"
      },
      "source": [],
      "execution_count": null,
      "outputs": []
    },
    {
      "cell_type": "code",
      "metadata": {
        "id": "fZl4cuDsi8Wq",
        "colab": {
          "base_uri": "https://localhost:8080/"
        },
        "outputId": "04e573d7-de1d-4372-f189-b3ca333cd26f"
      },
      "source": [
        "['a', '6', True, False]"
      ],
      "execution_count": null,
      "outputs": [
        {
          "output_type": "execute_result",
          "data": {
            "text/plain": [
              "['a', '6', True, False]"
            ]
          },
          "metadata": {
            "tags": []
          },
          "execution_count": 70
        }
      ]
    },
    {
      "cell_type": "markdown",
      "metadata": {
        "id": "ObNsGOTA3--o"
      },
      "source": [
        "So far, we've only created lists of strings (text).  Do you think Python will let you have a list with a mix of different types in it (numbers, strings, other lists, etc.)?  Try it."
      ]
    },
    {
      "cell_type": "code",
      "metadata": {
        "id": "eZdwGK7B3--o",
        "colab": {
          "base_uri": "https://localhost:8080/"
        },
        "outputId": "e1c95838-2aad-446c-d52d-87f97c14e840"
      },
      "source": [
        "['Korea', 3, 'BTS', True]"
      ],
      "execution_count": null,
      "outputs": [
        {
          "output_type": "execute_result",
          "data": {
            "text/plain": [
              "['Korea', 3, 'BTS', True]"
            ]
          },
          "metadata": {
            "tags": []
          },
          "execution_count": 71
        }
      ]
    },
    {
      "cell_type": "markdown",
      "metadata": {
        "id": "wPIiOpKl3--q"
      },
      "source": [
        "Strings (like your name variable) also have some list-like behaviors, because they're lists of individual charactres.  How might you get the the n'th character from a string?"
      ]
    },
    {
      "cell_type": "code",
      "metadata": {
        "id": "B2Nmb7CJ3--q"
      },
      "source": [],
      "execution_count": null,
      "outputs": []
    },
    {
      "cell_type": "markdown",
      "metadata": {
        "id": "AtqTtIkR3--s"
      },
      "source": [
        "### Tuples\n",
        "\n",
        "Notice that we created a list using [] square brackets.  If we use () parentheses, we create what's called a *tuple*.  A tuple might be something like this:"
      ]
    },
    {
      "cell_type": "code",
      "metadata": {
        "id": "BpsG6_Rb3--u"
      },
      "source": [
        "colors = ('blue', 'green', 'red')"
      ],
      "execution_count": null,
      "outputs": []
    },
    {
      "cell_type": "markdown",
      "metadata": {
        "id": "BFQtx0XY3--v"
      },
      "source": [
        "Notice that tuples are like lists: you can access elements, etc.  But what if you try to append to a tuple?"
      ]
    },
    {
      "cell_type": "code",
      "metadata": {
        "id": "NM_cYsE9jgOZ",
        "colab": {
          "base_uri": "https://localhost:8080/"
        },
        "outputId": "c5c72367-c327-4240-e4af-4f5f2e144972"
      },
      "source": [
        "colors.index('green')\n"
      ],
      "execution_count": null,
      "outputs": [
        {
          "output_type": "execute_result",
          "data": {
            "text/plain": [
              "1"
            ]
          },
          "metadata": {
            "tags": []
          },
          "execution_count": 75
        }
      ]
    },
    {
      "cell_type": "markdown",
      "metadata": {
        "id": "wWgGPRMr3--x"
      },
      "source": [
        "### The \"in\" operator\n",
        "\n",
        "We can use `in` to see whether an element is found in a list.  Try running this:"
      ]
    },
    {
      "cell_type": "code",
      "metadata": {
        "id": "KQ3CpNco3--y",
        "colab": {
          "base_uri": "https://localhost:8080/"
        },
        "outputId": "9be1bfab-0bb8-48b2-e622-241a08c60094"
      },
      "source": [
        "'yellow'in colors"
      ],
      "execution_count": null,
      "outputs": [
        {
          "output_type": "execute_result",
          "data": {
            "text/plain": [
              "False"
            ]
          },
          "metadata": {
            "tags": []
          },
          "execution_count": 76
        }
      ]
    },
    {
      "cell_type": "code",
      "metadata": {
        "id": "iyQWfqyNegi9",
        "colab": {
          "base_uri": "https://localhost:8080/"
        },
        "outputId": "fd1c7efb-545f-4eaf-cf8e-a464487d325c"
      },
      "source": [
        "'green' in colors"
      ],
      "execution_count": null,
      "outputs": [
        {
          "output_type": "execute_result",
          "data": {
            "text/plain": [
              "True"
            ]
          },
          "metadata": {
            "tags": []
          },
          "execution_count": 77
        }
      ]
    },
    {
      "cell_type": "markdown",
      "metadata": {
        "collapsed": true,
        "id": "yK9qVYSV3--0"
      },
      "source": [
        "# Dictionaries \n",
        "#Prettly unique in Python\n",
        "\n",
        "A **Dictionary** is a container that holds pairs of objects - keys and values.  Keys may be strings or numbers.  A value may be any type, whether an integer, string, boolean, list, etc.  It can even be another dictionary!\n",
        "\n",
        "Here's an example of a dictionary:"
      ]
    },
    {
      "cell_type": "code",
      "metadata": {
        "id": "PYOxILdR3--0"
      },
      "source": [
        "workshop = {'name': 'Programing With Python',\n",
        "            'duration' : 2,\n",
        "            'instructors': ['Dan','Laura', 'Dolsy', 'Sahiti'],\n",
        "            'awesome' : True}"
      ],
      "execution_count": null,
      "outputs": []
    },
    {
      "cell_type": "markdown",
      "metadata": {
        "collapsed": true,
        "id": "gRKrDjY53--4"
      },
      "source": [
        "So dictionaries are very similar to lists, except that they're indexed with keys.\n",
        "\n",
        "Dictionaries are actually data structures that can represent objects in **JSON** (JavaScript Object Notation) format, which today is a very common way of representing data!\n",
        "\n",
        "How do you think you would access the value of `'instructors'` key from the `workshop` dictionary?"
      ]
    },
    {
      "cell_type": "code",
      "metadata": {
        "id": "H3eEDCnw3--4",
        "colab": {
          "base_uri": "https://localhost:8080/"
        },
        "outputId": "72a48f5e-20b5-4c49-f30f-09b56ea64292"
      },
      "source": [
        "workshop"
      ],
      "execution_count": null,
      "outputs": [
        {
          "output_type": "execute_result",
          "data": {
            "text/plain": [
              "{'awesome': True,\n",
              " 'duration': 2,\n",
              " 'instructors': ['Dan', 'Laura', 'Dolsy', 'Sahiti'],\n",
              " 'name': 'Programing With Python'}"
            ]
          },
          "metadata": {
            "tags": []
          },
          "execution_count": 79
        }
      ]
    },
    {
      "cell_type": "code",
      "metadata": {
        "id": "LD5uGdN5k0_7",
        "colab": {
          "base_uri": "https://localhost:8080/"
        },
        "outputId": "a34c2a2f-9c95-4dfd-ec73-05b89846e9af"
      },
      "source": [
        "workshop['duration']"
      ],
      "execution_count": null,
      "outputs": [
        {
          "output_type": "execute_result",
          "data": {
            "text/plain": [
              "2"
            ]
          },
          "metadata": {
            "tags": []
          },
          "execution_count": 81
        }
      ]
    },
    {
      "cell_type": "markdown",
      "metadata": {
        "id": "2VY6VvO13--6"
      },
      "source": [
        "How do you think you would ***add*** an item to the dictionary?  Try adding a 'location' item.  How about replacing an item?"
      ]
    },
    {
      "cell_type": "code",
      "metadata": {
        "id": "19V7U78b3--7",
        "colab": {
          "base_uri": "https://localhost:8080/"
        },
        "outputId": "bd4f695d-cd84-4605-d204-b9a6e5301e99"
      },
      "source": [
        "workshop['location'] = 'Dasan 406'\n",
        "workshop"
      ],
      "execution_count": null,
      "outputs": [
        {
          "output_type": "execute_result",
          "data": {
            "text/plain": [
              "{'awesome': True,\n",
              " 'duration': 2,\n",
              " 'instructors': ['Dan', 'Laura', 'Dolsy', 'Sahiti'],\n",
              " 'location': 'Dasan 406',\n",
              " 'name': 'Programing With Python'}"
            ]
          },
          "metadata": {
            "tags": []
          },
          "execution_count": 83
        }
      ]
    },
    {
      "cell_type": "markdown",
      "metadata": {
        "collapsed": true,
        "id": "cBRuUUgb3--9"
      },
      "source": [
        "### Challenge\n",
        "\n",
        "How might you add two more names to the list of instructors?  (Challenge:  Try to do this in one line, *without* just overriding the list of instructors)"
      ]
    },
    {
      "cell_type": "code",
      "metadata": {
        "id": "svn_3DI83---",
        "colab": {
          "base_uri": "https://localhost:8080/"
        },
        "outputId": "a5bdd2af-24dc-4f9c-aa63-96f95f60a66c"
      },
      "source": [
        "workshop['instructors'] = workshop['instructors'] +['Kang'] \n",
        "workshop               "
      ],
      "execution_count": null,
      "outputs": [
        {
          "output_type": "execute_result",
          "data": {
            "text/plain": [
              "{'awesome': True,\n",
              " 'duration': 2,\n",
              " 'instructors': ['Dan', 'Laura', 'Dolsy', 'Sahiti', 'Kang'],\n",
              " 'location': 'Dasan 406',\n",
              " 'name': 'Programing With Python'}"
            ]
          },
          "metadata": {
            "tags": []
          },
          "execution_count": 87
        }
      ]
    },
    {
      "cell_type": "code",
      "metadata": {
        "id": "8tDH4Xz5l5EL",
        "colab": {
          "base_uri": "https://localhost:8080/"
        },
        "outputId": "f77ffad7-cf0e-4d90-e588-aee7696188e8"
      },
      "source": [
        "workshop['instructors'].remove('Kang')\n",
        "workshop"
      ],
      "execution_count": null,
      "outputs": [
        {
          "output_type": "execute_result",
          "data": {
            "text/plain": [
              "{'awesome': True,\n",
              " 'duration': 2,\n",
              " 'instructors': ['Dan', 'Laura', 'Dolsy', 'Sahiti'],\n",
              " 'location': 'Dasan 406',\n",
              " 'name': 'Programing With Python'}"
            ]
          },
          "metadata": {
            "tags": []
          },
          "execution_count": 89
        }
      ]
    },
    {
      "cell_type": "code",
      "metadata": {
        "id": "UxalMu0hmESn"
      },
      "source": [],
      "execution_count": null,
      "outputs": []
    },
    {
      "cell_type": "markdown",
      "metadata": {
        "id": "wzTveZhQ3-_C"
      },
      "source": [
        "We can also look up whether a certain key exists in a dictionary.  How might you evaluate whether or not `workshop` contains a `location` key?"
      ]
    },
    {
      "cell_type": "code",
      "metadata": {
        "id": "KHGH6NWc3-_D",
        "colab": {
          "base_uri": "https://localhost:8080/"
        },
        "outputId": "dc9d626c-7cca-4419-aee2-99a0134015db"
      },
      "source": [
        "'location'in workshop\n",
        "# in operator 는 불리안 함수만을 결과로 프린트"
      ],
      "execution_count": null,
      "outputs": [
        {
          "output_type": "execute_result",
          "data": {
            "text/plain": [
              "True"
            ]
          },
          "metadata": {
            "tags": []
          },
          "execution_count": 90
        }
      ]
    },
    {
      "cell_type": "markdown",
      "metadata": {
        "id": "HLItTaYq3-_G"
      },
      "source": [
        "# Comments\n",
        "\n",
        "Comment lines start with `#`.  They don't execute any code, but it's a very good idea to comment your code so that the reader (which might be your future self) can understand anything that's not already obvious from your clear and well-written code."
      ]
    },
    {
      "cell_type": "code",
      "metadata": {
        "id": "htTaGJwK3-_G"
      },
      "source": [
        "#코멘트"
      ],
      "execution_count": null,
      "outputs": []
    },
    {
      "cell_type": "markdown",
      "metadata": {
        "id": "1rL-U52E8Eho"
      },
      "source": []
    },
    {
      "cell_type": "code",
      "metadata": {
        "id": "kGpBPhbG8ED5"
      },
      "source": [
        "#This is a comment and is for the reader's benefit"
      ],
      "execution_count": null,
      "outputs": []
    },
    {
      "cell_type": "markdown",
      "metadata": {
        "id": "gSIbXT1H3-_I"
      },
      "source": [
        "# Iteration (looping)\n",
        "\n",
        "Iteration allows us to repeat over a section of code, and iterate through a list (or other \"iterable\") at the same time.  **`for`** and **`while`** create iterations, like this:\n",
        "\n",
        "```\n",
        "numbers = [4, 6, 0, 5.5, 3]\n",
        "for n in numbers:\n",
        "    print(\"The next number in the list, squared is \", n**2)\n",
        "    \n",
        "print(\"We're done iterating -- notice that this line isn't indented, so it's outside the loop\")\n",
        "```    \n",
        "\n",
        "and this brings up the topic of **indentation**!  The block (i.e., lines) of code that you're iterating over needs to be indented.  In Python, you should indent by 4 spaces.\n",
        "\n",
        "Try creating a list of exam scores that we'd like to grade on a curve.  Use `max()` to find out the highest score.  Then create an iteration that prints out the score as well as the score graded on a curve (by dividing by the highest score).\n"
      ]
    },
    {
      "cell_type": "code",
      "metadata": {
        "id": "cB9e2EI73-_J"
      },
      "source": [
        "scores = [80, 91, 77, 50.5, 43, 88,81]"
      ],
      "execution_count": null,
      "outputs": []
    },
    {
      "cell_type": "code",
      "metadata": {
        "id": "4x_EHB0E3-_K",
        "colab": {
          "base_uri": "https://localhost:8080/"
        },
        "outputId": "c5156fc1-2d69-49e6-efdd-1f254ac2bba1"
      },
      "source": [
        "max(scores)"
      ],
      "execution_count": null,
      "outputs": [
        {
          "output_type": "execute_result",
          "data": {
            "text/plain": [
              "91"
            ]
          },
          "metadata": {
            "tags": []
          },
          "execution_count": 7
        }
      ]
    },
    {
      "cell_type": "code",
      "metadata": {
        "id": "3Lgp854N3-_O",
        "colab": {
          "base_uri": "https://localhost:8080/"
        },
        "outputId": "8847e4ee-e012-438b-bd21-39b550b86430"
      },
      "source": [
        "curvedscores = []\n",
        "\n",
        "for score in scores :\n",
        "  c = curvedscores.append(100*score/max(scores))\n",
        "  print('the student got a', score, 'which curves to a', c)\n",
        "\n",
        "print('Done')"
      ],
      "execution_count": null,
      "outputs": [
        {
          "output_type": "stream",
          "text": [
            "the student got a 80 which curves to a None\n",
            "the student got a 91 which curves to a None\n",
            "the student got a 77 which curves to a None\n",
            "the student got a 50.5 which curves to a None\n",
            "the student got a 43 which curves to a None\n",
            "the student got a 88 which curves to a None\n",
            "the student got a 81 which curves to a None\n",
            "Done\n"
          ],
          "name": "stdout"
        }
      ]
    },
    {
      "cell_type": "code",
      "metadata": {
        "id": "b1TfmTzA7e_6",
        "colab": {
          "base_uri": "https://localhost:8080/"
        },
        "outputId": "6664615c-9c3f-47bf-d9e8-2b2e888cf70c"
      },
      "source": [
        " grade = ['*']*len(scores)\n",
        " print(grade)\n",
        "\n",
        " for s in scores :\n",
        "   index = scores.index(s)\n",
        "   if s >= 90 :\n",
        "       grade[index] = \"A\"\n",
        "   elif s>= 85:\n",
        "     grade[index] = \"A\"\n",
        "   else :\n",
        "         grade[index] = \"B\"\n",
        "  \n",
        "print(grade)\n"
      ],
      "execution_count": null,
      "outputs": [
        {
          "output_type": "stream",
          "text": [
            "['*', '*', '*', '*', '*', '*', '*']\n",
            "['B', 'A', 'B', 'B', 'B', 'A', 'B']\n"
          ],
          "name": "stdout"
        }
      ]
    },
    {
      "cell_type": "code",
      "metadata": {
        "colab": {
          "base_uri": "https://localhost:8080/"
        },
        "id": "YmoEs4QF62j7",
        "outputId": "6fe674c8-e6ad-4c4e-8300-b0640212b3d5"
      },
      "source": [
        "grade = ['*']*len(scores)\n",
        "print(grade)\n",
        "\n",
        "for s in scores :\n",
        "  index = scores.index(s)\n",
        "  if s>= 85 :\n",
        "    grade[index] = \"A\"\n",
        "  else :\n",
        "    grade[index] = \"B\"\n",
        "print(grade)"
      ],
      "execution_count": null,
      "outputs": [
        {
          "output_type": "stream",
          "text": [
            "['*', '*', '*', '*', '*', '*', '*']\n",
            "['B', 'A', 'B', 'B', 'B', 'A', 'B']\n"
          ],
          "name": "stdout"
        }
      ]
    },
    {
      "cell_type": "markdown",
      "metadata": {
        "id": "XWIo1pp63-_R"
      },
      "source": [
        "Iterating over dictionaries is slightly different:\n"
      ]
    },
    {
      "cell_type": "code",
      "metadata": {
        "id": "ajcpjk-y3-_S",
        "colab": {
          "base_uri": "https://localhost:8080/"
        },
        "outputId": "eaf2a328-a298-4254-c85c-7361d178a022"
      },
      "source": [
        "for key, value in  workshop.items():\n",
        "  print(\"The key is\",key,\"and the value is\", value)"
      ],
      "execution_count": null,
      "outputs": [
        {
          "output_type": "stream",
          "text": [
            "The key is name and the value is Programing With Python\n",
            "The key is duration and the value is 2\n",
            "The key is instructors and the value is ['Dan', 'Laura', 'Dolsy', 'Sahiti']\n",
            "The key is awesome and the value is True\n",
            "The key is location and the value is Dasan 406\n"
          ],
          "name": "stdout"
        }
      ]
    },
    {
      "cell_type": "code",
      "metadata": {
        "id": "UjVLeTkyoldk",
        "colab": {
          "base_uri": "https://localhost:8080/"
        },
        "outputId": "b2b81878-62af-4f7e-8b59-8c508fe9dda1"
      },
      "source": [
        "workshop.items()"
      ],
      "execution_count": null,
      "outputs": [
        {
          "output_type": "execute_result",
          "data": {
            "text/plain": [
              "dict_items([('name', 'Programing With Python'), ('duration', 2), ('instructors', ['Dan', 'Laura', 'Dolsy', 'Sahiti']), ('awesome', True), ('location', 'Dasan 406')])"
            ]
          },
          "metadata": {
            "tags": []
          },
          "execution_count": 109
        }
      ]
    },
    {
      "cell_type": "markdown",
      "metadata": {
        "id": "KuMsoqE13-_V"
      },
      "source": [
        "Notice that dictionaries are unordered.  There's no guarantee about what order the iterator will yield the dictionary items to you in."
      ]
    },
    {
      "cell_type": "code",
      "metadata": {
        "id": "iZFYg3fapI7k",
        "colab": {
          "base_uri": "https://localhost:8080/"
        },
        "outputId": "7e4d50fa-ec34-4839-8c70-952afed409b7"
      },
      "source": [
        "for name, duration in workshop.items():\n",
        "  print('name is', name, 'and the duration is',duration)"
      ],
      "execution_count": null,
      "outputs": [
        {
          "output_type": "stream",
          "text": [
            "name is name and the duration is Programing With Python\n",
            "name is duration and the duration is 2\n",
            "name is instructors and the duration is ['Dan', 'Laura', 'Dolsy', 'Sahiti']\n",
            "name is awesome and the duration is True\n",
            "name is location and the duration is Dasan 406\n"
          ],
          "name": "stdout"
        }
      ]
    },
    {
      "cell_type": "markdown",
      "metadata": {
        "id": "1iLUd1sm3-_W"
      },
      "source": [
        "### Another way to iterate: `while`"
      ]
    },
    {
      "cell_type": "markdown",
      "metadata": {
        "id": "rKM4VW1a3-_W"
      },
      "source": [
        "What if we don't have a list or other \"iterable\" for our for loop to iterate over? In that case, you can also loop using **`while`**."
      ]
    },
    {
      "cell_type": "markdown",
      "metadata": {
        "id": "vP__9XLG3-_X"
      },
      "source": [
        "Let's keep adding random numbers (between 1 and 10) until the sum hits at least 50.  We can use Python's `random` library, which we first need to import:"
      ]
    },
    {
      "cell_type": "code",
      "metadata": {
        "id": "rEL49SnT3-_Y"
      },
      "source": [
        "import random"
      ],
      "execution_count": null,
      "outputs": []
    },
    {
      "cell_type": "code",
      "metadata": {
        "id": "zy-w_xFdpVO4",
        "colab": {
          "base_uri": "https://localhost:8080/"
        },
        "outputId": "b9283d5a-32e1-4624-e6f2-91f2c38388dc"
      },
      "source": [
        "random"
      ],
      "execution_count": null,
      "outputs": [
        {
          "output_type": "execute_result",
          "data": {
            "text/plain": [
              "<module 'random' from '/usr/lib/python3.7/random.py'>"
            ]
          },
          "metadata": {
            "tags": []
          },
          "execution_count": 14
        }
      ]
    },
    {
      "cell_type": "code",
      "metadata": {
        "id": "bzXjGNYy3-_e",
        "colab": {
          "base_uri": "https://localhost:8080/"
        },
        "outputId": "14245fd9-40e9-4947-93a2-c1212db3332c"
      },
      "source": [
        "random.randint(1,10)"
      ],
      "execution_count": null,
      "outputs": [
        {
          "output_type": "execute_result",
          "data": {
            "text/plain": [
              "9"
            ]
          },
          "metadata": {
            "tags": []
          },
          "execution_count": 20
        }
      ]
    },
    {
      "cell_type": "code",
      "metadata": {
        "id": "KaXQHkL5p2Yn",
        "colab": {
          "base_uri": "https://localhost:8080/"
        },
        "outputId": "abd445f5-29ff-4239-abf6-213b8432f378"
      },
      "source": [
        "sum_so_far = 0\n",
        "\n",
        "while sum_so_far < 50 :\n",
        "  sum_so_far = sum_so_far + random.randint(1,10)\n",
        "  print(sum_so_far)"
      ],
      "execution_count": null,
      "outputs": [
        {
          "output_type": "stream",
          "text": [
            "5\n",
            "7\n",
            "13\n",
            "20\n",
            "27\n",
            "30\n",
            "32\n",
            "34\n",
            "35\n",
            "40\n",
            "41\n",
            "46\n",
            "49\n",
            "53\n"
          ],
          "name": "stdout"
        }
      ]
    },
    {
      "cell_type": "markdown",
      "metadata": {
        "id": "ePNCscCD3-_j"
      },
      "source": [
        "Now for the `while` loop:"
      ]
    },
    {
      "cell_type": "markdown",
      "metadata": {
        "id": "at-b9zWF3-_k"
      },
      "source": [
        "sum_so_far = 0 \n",
        "while sum_so_far < 50:\n",
        "    # What would you put in here?"
      ]
    },
    {
      "cell_type": "markdown",
      "metadata": {
        "id": "CjjDvjIM3-_l"
      },
      "source": [
        "### A random side note:\n",
        "    \n",
        "Try running the cell above with `random.randint(1,10)` again and again.  In a scientific setting, how might you ensure that your random sequence is \"repeatable\"?"
      ]
    },
    {
      "cell_type": "code",
      "metadata": {
        "id": "SdaDqwyiqQZP"
      },
      "source": [
        "random.seed(100)"
      ],
      "execution_count": null,
      "outputs": []
    },
    {
      "cell_type": "code",
      "metadata": {
        "id": "5hquBMEVFK9c"
      },
      "source": [],
      "execution_count": null,
      "outputs": []
    },
    {
      "cell_type": "markdown",
      "metadata": {
        "id": "vx4AjHrt3-_m"
      },
      "source": [
        "### Another use of while:"
      ]
    },
    {
      "cell_type": "markdown",
      "metadata": {
        "id": "H3nPfMFJ3-_n"
      },
      "source": [
        "One way you might see `while` used is with **`while True`** which just continues indefinitely:"
      ]
    },
    {
      "cell_type": "code",
      "metadata": {
        "id": "r3ZC3GJP3-_o",
        "colab": {
          "base_uri": "https://localhost:8080/"
        },
        "outputId": "35458b25-8c16-41f5-8c94-78be50b005fd"
      },
      "source": [
        "lucky_number = 7\n",
        "\n",
        "while True : \n",
        "  a_number = random.randint(1,10)\n",
        "  if a_number != lucky_number :\n",
        "    print(\"No!!!! Didn't get a\", lucky_number)\n",
        "  else:\n",
        "    print(\"Yes!!! Got a lucky\", lucky_number, \"-- 드디어 룹이 끝났다!\")\n",
        "    break"
      ],
      "execution_count": null,
      "outputs": [
        {
          "output_type": "stream",
          "text": [
            "No!!!! Didn't get a 7\n",
            "Yes!!! Got a lucky 7 -- 드디어 룹이 끝났다!\n"
          ],
          "name": "stdout"
        }
      ]
    },
    {
      "cell_type": "markdown",
      "metadata": {
        "id": "P-XGL6w03-_u"
      },
      "source": [
        "What does the `break` statement do?"
      ]
    },
    {
      "cell_type": "markdown",
      "metadata": {
        "id": "68-RHxdY3-_w"
      },
      "source": [
        "## Conditionals\n",
        "\n",
        "Notice that in the example above, we snuck in the use of **`if`** and **`else`**.  Conditional expressions, using `if`, `else`, and `elif` (a contraction of \"else if\") allow us to execute blocks of code only if the condition is true.\n",
        "\n",
        "Create some code that iterates through a list of exam scores.  If a score is 70 or above, it should print out \"Pass!\"  If it's below 70, it should print out \"Fail!\""
      ]
    },
    {
      "cell_type": "code",
      "metadata": {
        "id": "3SXK9Mlj3-_x",
        "colab": {
          "base_uri": "https://localhost:8080/"
        },
        "outputId": "aba834fa-0910-47d7-81b0-6cb561fee3f8"
      },
      "source": [
        "scores = [61, 95, 70, 80, 99]\n",
        "ls = len(scores)\n",
        "\n",
        "print(ls)\n",
        "\n",
        "grade = [1] * ls\n",
        "\n",
        "print(grade)"
      ],
      "execution_count": null,
      "outputs": [
        {
          "output_type": "stream",
          "text": [
            "5\n",
            "[1, 1, 1, 1, 1]\n"
          ],
          "name": "stdout"
        }
      ]
    },
    {
      "cell_type": "code",
      "metadata": {
        "id": "LzVQ1oe-x8te",
        "colab": {
          "base_uri": "https://localhost:8080/"
        },
        "outputId": "e28251a2-c0e1-4a48-99f2-834e708b1162"
      },
      "source": [
        "for s in scores :\n",
        "  print(s)\n",
        "  i = scores.index(s)\n",
        "  print(i)\n",
        "\n",
        "  if s >= 95 :\n",
        "    grade[i] = \"A\"\n",
        "    print(grade)"
      ],
      "execution_count": null,
      "outputs": [
        {
          "output_type": "stream",
          "text": [
            "61\n",
            "0\n",
            "95\n",
            "1\n",
            "[1, 'A', 1, 1, 'A']\n",
            "70\n",
            "2\n",
            "80\n",
            "3\n",
            "99\n",
            "4\n",
            "[1, 'A', 1, 1, 'A']\n"
          ],
          "name": "stdout"
        }
      ]
    },
    {
      "cell_type": "code",
      "metadata": {
        "colab": {
          "base_uri": "https://localhost:8080/"
        },
        "id": "7XuQlX51YyMU",
        "outputId": "2103d78e-3892-462b-e077-1a3560e4a1dc"
      },
      "source": [
        "ls = len(scores)\n",
        "grade = [1]*ls\n",
        "\n",
        "for s in scores :\n",
        "  i = scores.index(s)\n",
        "  if s>= 95:\n",
        "    grade[i] =\"A\"\n",
        "print(grade)\n",
        "    "
      ],
      "execution_count": null,
      "outputs": [
        {
          "output_type": "stream",
          "text": [
            "[1, 'A', 1, 1, 'A']\n"
          ],
          "name": "stdout"
        }
      ]
    },
    {
      "cell_type": "markdown",
      "metadata": {
        "id": "yWD7Vgst3-_z"
      },
      "source": [
        "## Functions\n",
        "\n",
        "We've already seen some built-in functions, such as `print()`, `max()`, and `len()`.  But Python is meant to be used with more than just its built-in functions.\n",
        "\n",
        "Let's try to take the square root of a number in Python, using `sqrt()`:"
      ]
    },
    {
      "cell_type": "code",
      "metadata": {
        "id": "myIRws_q3-_2"
      },
      "source": [
        "import math"
      ],
      "execution_count": null,
      "outputs": []
    },
    {
      "cell_type": "code",
      "metadata": {
        "id": "TRwm8CVVsSvZ"
      },
      "source": [
        "import math as m"
      ],
      "execution_count": null,
      "outputs": []
    },
    {
      "cell_type": "code",
      "metadata": {
        "id": "Ins8G_YcsV7g",
        "colab": {
          "base_uri": "https://localhost:8080/"
        },
        "outputId": "ca94bfb6-2d79-4d98-f716-2df127b701f3"
      },
      "source": [
        "m.sqrt(8)"
      ],
      "execution_count": null,
      "outputs": [
        {
          "output_type": "execute_result",
          "data": {
            "text/plain": [
              "2.8284271247461903"
            ]
          },
          "metadata": {
            "tags": []
          },
          "execution_count": 131
        }
      ]
    },
    {
      "cell_type": "markdown",
      "metadata": {
        "id": "frfNuKfY3-_6"
      },
      "source": [
        "What happened?  But I googled and saw that the square root function in Python is called `sqrt()`!\n",
        "\n",
        "### Importing libraries and using their functions\n",
        "\n",
        "Libraries are sets of Python functions that you can \"import\" to make available and use with *your* code.\n",
        "\n",
        "There are libraries that are part of Python, such as `math`, and libraries that other people write, such as `numpy`.\n",
        "\n",
        "We can import the math library into our code with:\n",
        "\n",
        "```import math```\n",
        "\n",
        "Each time we call a function that's in a library, we use the syntax ***LibraryName.FunctionName***. Adding the library name with a . before the function name tells Python where to find the function.\n",
        "\n",
        "Let's try taking that square root again:"
      ]
    },
    {
      "cell_type": "code",
      "metadata": {
        "id": "RyEU0Ta83-_7",
        "colab": {
          "base_uri": "https://localhost:8080/"
        },
        "outputId": "944f7ce2-c3f6-4d56-9399-5221e737c5d0"
      },
      "source": [
        "m.sqrt(2)"
      ],
      "execution_count": null,
      "outputs": [
        {
          "output_type": "execute_result",
          "data": {
            "text/plain": [
              "1.4142135623730951"
            ]
          },
          "metadata": {
            "tags": []
          },
          "execution_count": 132
        }
      ]
    },
    {
      "cell_type": "code",
      "metadata": {
        "id": "EMi_z9S23-_-",
        "colab": {
          "base_uri": "https://localhost:8080/"
        },
        "outputId": "3dcf0ca8-b7ca-4b9a-c4b7-8bf5afe4c98e"
      },
      "source": [
        "math.sqrt(2)"
      ],
      "execution_count": null,
      "outputs": [
        {
          "output_type": "execute_result",
          "data": {
            "text/plain": [
              "1.4142135623730951"
            ]
          },
          "metadata": {
            "tags": []
          },
          "execution_count": 133
        }
      ]
    },
    {
      "cell_type": "markdown",
      "metadata": {
        "id": "c0VFkQQK3_AC"
      },
      "source": [
        "And if we want, we can do something like this:\n",
        "\n",
        "```from math import sqrt```\n",
        "\n",
        "See if you can figure out what effect that had:"
      ]
    },
    {
      "cell_type": "code",
      "metadata": {
        "id": "t64EaSE23_AD",
        "colab": {
          "base_uri": "https://localhost:8080/",
          "height": 169
        },
        "outputId": "5e42f84e-4423-46c5-c220-f443abc98040"
      },
      "source": [
        "sqrt(2)"
      ],
      "execution_count": null,
      "outputs": [
        {
          "output_type": "error",
          "ename": "NameError",
          "evalue": "ignored",
          "traceback": [
            "\u001b[0;31m---------------------------------------------------------------------------\u001b[0m",
            "\u001b[0;31mNameError\u001b[0m                                 Traceback (most recent call last)",
            "\u001b[0;32m<ipython-input-134-66e338417901>\u001b[0m in \u001b[0;36m<module>\u001b[0;34m()\u001b[0m\n\u001b[0;32m----> 1\u001b[0;31m \u001b[0msqrt\u001b[0m\u001b[0;34m(\u001b[0m\u001b[0;36m2\u001b[0m\u001b[0;34m)\u001b[0m\u001b[0;34m\u001b[0m\u001b[0;34m\u001b[0m\u001b[0m\n\u001b[0m",
            "\u001b[0;31mNameError\u001b[0m: name 'sqrt' is not defined"
          ]
        }
      ]
    },
    {
      "cell_type": "markdown",
      "metadata": {
        "id": "Nl12CtpR3_AH"
      },
      "source": [
        "When might you choose\n",
        "\n",
        "```import some_library```\n",
        "\n",
        "versus\n",
        "\n",
        "```from some_library import some_function```\n",
        "\n",
        "or even\n",
        "\n",
        "```from some_library import *``` ?"
      ]
    },
    {
      "cell_type": "code",
      "metadata": {
        "id": "772hLC6JsU3a",
        "colab": {
          "base_uri": "https://localhost:8080/"
        },
        "outputId": "5df0e88c-77fc-4d0c-ba10-b13a33d00bfb"
      },
      "source": [
        "x = dir(math)\n",
        "print(x)"
      ],
      "execution_count": null,
      "outputs": [
        {
          "output_type": "stream",
          "text": [
            "['__doc__', '__loader__', '__name__', '__package__', '__spec__', 'acos', 'acosh', 'asin', 'asinh', 'atan', 'atan2', 'atanh', 'ceil', 'copysign', 'cos', 'cosh', 'degrees', 'e', 'erf', 'erfc', 'exp', 'expm1', 'fabs', 'factorial', 'floor', 'fmod', 'frexp', 'fsum', 'gamma', 'gcd', 'hypot', 'inf', 'isclose', 'isfinite', 'isinf', 'isnan', 'ldexp', 'lgamma', 'log', 'log10', 'log1p', 'log2', 'modf', 'nan', 'pi', 'pow', 'radians', 'remainder', 'sin', 'sinh', 'sqrt', 'tan', 'tanh', 'tau', 'trunc']\n"
          ],
          "name": "stdout"
        }
      ]
    },
    {
      "cell_type": "markdown",
      "metadata": {
        "id": "CX966Y2x3_AH"
      },
      "source": [
        "### Writing our own functions\n",
        "\n",
        "What if we want to write our own functions?\n",
        "\n",
        "Defining part of a program in Python as a function is done using the `def` keyword. For example a function that takes a temperature in degrees Fahrenheit and returns the temperature in degrees Celsius:"
      ]
    },
    {
      "cell_type": "code",
      "metadata": {
        "id": "V5_TRo5m3_AI"
      },
      "source": [
        "def fahreinheit2celcius(temp_fahr):\n",
        "  temp_celsius = (temp_fahr -32)*5/9\n",
        "  return temp_celsius"
      ],
      "execution_count": null,
      "outputs": []
    },
    {
      "cell_type": "markdown",
      "metadata": {
        "id": "7vkUoEVj3_AK"
      },
      "source": [
        "Now we can use it:"
      ]
    },
    {
      "cell_type": "code",
      "metadata": {
        "id": "9jZ9c_DV3_AM",
        "colab": {
          "base_uri": "https://localhost:8080/"
        },
        "outputId": "47b1931a-608f-4eca-e03c-4524dd3df012"
      },
      "source": [
        "c=fahreinheit2celcius(100)\n",
        "print(c)"
      ],
      "execution_count": null,
      "outputs": [
        {
          "output_type": "stream",
          "text": [
            "37.77777777777778\n"
          ],
          "name": "stdout"
        }
      ]
    },
    {
      "cell_type": "markdown",
      "metadata": {
        "id": "4OepVVOi3_AQ"
      },
      "source": [
        "### What's variable \"scope\"?"
      ]
    },
    {
      "cell_type": "markdown",
      "metadata": {
        "id": "XdushatC3_AS"
      },
      "source": [
        "Let's say we had defined our function like this, using a variable called `ratio` instead of `5/9`:"
      ]
    },
    {
      "cell_type": "code",
      "metadata": {
        "id": "DsarEKmX3_AU"
      },
      "source": [
        "#scope 망원경 (내재되는 내용은 반영 안됨)\n",
        "def fahreinheit2celcius(temp_fahr):\n",
        "   ratio = 5/9\n",
        "   temp_celsius = (temp_fahr -32)*ratio \n",
        "   return temp_celsius"
      ],
      "execution_count": null,
      "outputs": []
    },
    {
      "cell_type": "markdown",
      "metadata": {
        "id": "yW-oe1L53_AX"
      },
      "source": [
        "What happens if we then try to print `ratio`?"
      ]
    },
    {
      "cell_type": "code",
      "metadata": {
        "id": "j-NKGKtU3_AX",
        "colab": {
          "base_uri": "https://localhost:8080/",
          "height": 169
        },
        "outputId": "5b2cd818-50ab-4371-d0d0-c10df205f745"
      },
      "source": [
        "print(ratio)\n",
        "#내부적으로 정의된 내용은 print가 안됨됨"
      ],
      "execution_count": null,
      "outputs": [
        {
          "output_type": "error",
          "ename": "NameError",
          "evalue": "ignored",
          "traceback": [
            "\u001b[0;31m---------------------------------------------------------------------------\u001b[0m",
            "\u001b[0;31mNameError\u001b[0m                                 Traceback (most recent call last)",
            "\u001b[0;32m<ipython-input-140-f32d53a42e26>\u001b[0m in \u001b[0;36m<module>\u001b[0;34m()\u001b[0m\n\u001b[0;32m----> 1\u001b[0;31m \u001b[0mprint\u001b[0m\u001b[0;34m(\u001b[0m\u001b[0mratio\u001b[0m\u001b[0;34m)\u001b[0m\u001b[0;34m\u001b[0m\u001b[0;34m\u001b[0m\u001b[0m\n\u001b[0m",
            "\u001b[0;31mNameError\u001b[0m: name 'ratio' is not defined"
          ]
        }
      ]
    },
    {
      "cell_type": "markdown",
      "metadata": {
        "id": "WC9o75sM3_Aa"
      },
      "source": [
        "Why did we get this error?"
      ]
    },
    {
      "cell_type": "code",
      "metadata": {
        "id": "GCPUlPkQtlw0",
        "colab": {
          "base_uri": "https://localhost:8080/"
        },
        "outputId": "fa7d6dea-3fa5-477c-ea1b-0709de45249c"
      },
      "source": [
        "c= fahreinheit2celcius(100)\n",
        "print(c)"
      ],
      "execution_count": null,
      "outputs": [
        {
          "output_type": "stream",
          "text": [
            "37.77777777777778\n"
          ],
          "name": "stdout"
        }
      ]
    },
    {
      "cell_type": "markdown",
      "metadata": {
        "id": "g9N_jn5N3_Ab"
      },
      "source": [
        "### A bit more about passing values to functions\n",
        "\n",
        "Remember earlier how we graded test scores on a curve?  Let's make a function to do that.  We'll pass it the individual test score, and the top score that will be our new \"100%\":"
      ]
    },
    {
      "cell_type": "code",
      "metadata": {
        "id": "-GcixbEK3_Ab"
      },
      "source": [
        "def curve(score, top_score =90):\n",
        "  return 100*score/top_score"
      ],
      "execution_count": null,
      "outputs": []
    },
    {
      "cell_type": "code",
      "metadata": {
        "id": "P0R-7Yj23_Ae",
        "colab": {
          "base_uri": "https://localhost:8080/"
        },
        "outputId": "0b86cdfe-c6b9-42cd-a3b8-7886aed1dd9f"
      },
      "source": [
        "curve(89)\n",
        "#top_score을 기준으로 환산한 점수"
      ],
      "execution_count": null,
      "outputs": [
        {
          "output_type": "execute_result",
          "data": {
            "text/plain": [
              "98.88888888888889"
            ]
          },
          "metadata": {
            "tags": []
          },
          "execution_count": 145
        }
      ]
    },
    {
      "cell_type": "code",
      "metadata": {
        "id": "w6S2iZbQt2W8",
        "colab": {
          "base_uri": "https://localhost:8080/",
          "height": 169
        },
        "outputId": "fa9e98d8-2f8a-4369-a275-8f65c67bdedc"
      },
      "source": [
        "curve()"
      ],
      "execution_count": null,
      "outputs": [
        {
          "output_type": "error",
          "ename": "TypeError",
          "evalue": "ignored",
          "traceback": [
            "\u001b[0;31m---------------------------------------------------------------------------\u001b[0m",
            "\u001b[0;31mTypeError\u001b[0m                                 Traceback (most recent call last)",
            "\u001b[0;32m<ipython-input-146-bd05bd176bbb>\u001b[0m in \u001b[0;36m<module>\u001b[0;34m()\u001b[0m\n\u001b[0;32m----> 1\u001b[0;31m \u001b[0mcurve\u001b[0m\u001b[0;34m(\u001b[0m\u001b[0;34m)\u001b[0m\u001b[0;34m\u001b[0m\u001b[0;34m\u001b[0m\u001b[0m\n\u001b[0m",
            "\u001b[0;31mTypeError\u001b[0m: curve() missing 1 required positional argument: 'score'"
          ]
        }
      ]
    },
    {
      "cell_type": "markdown",
      "metadata": {
        "id": "NUToYKAP3_Ah"
      },
      "source": [
        "Now, if we specify which parameter is which, we can pass them in any order we like!"
      ]
    },
    {
      "cell_type": "code",
      "metadata": {
        "id": "d7FBU31y3_Ah",
        "colab": {
          "base_uri": "https://localhost:8080/"
        },
        "outputId": "32ee7f5e-b1c3-4487-805b-011e95e4bcc3"
      },
      "source": [
        "curve(top_score =96, score =89)\n",
        "# 순서는 상관없음"
      ],
      "execution_count": null,
      "outputs": [
        {
          "output_type": "execute_result",
          "data": {
            "text/plain": [
              "92.70833333333333"
            ]
          },
          "metadata": {
            "tags": []
          },
          "execution_count": 148
        }
      ]
    },
    {
      "cell_type": "code",
      "metadata": {
        "id": "RbY7FN1XhoAf"
      },
      "source": [],
      "execution_count": null,
      "outputs": []
    },
    {
      "cell_type": "markdown",
      "metadata": {
        "id": "nxyRDcl-3_Aj"
      },
      "source": [
        "Key points here:\n",
        "\n",
        "- definition starts with **`def`**\n",
        "- function body is indented\n",
        "- parameters are matched \"in order\", unless we specify them by name\n",
        "- **`return`** keyword precedes returned value\n"
      ]
    },
    {
      "cell_type": "markdown",
      "metadata": {
        "id": "oJE-7t2j3_Aj"
      },
      "source": [
        "### Challenge\n",
        "\n",
        "Can you create a function called `pad` that would take a list and pads it with some new item if it's less than the length you want?  You would use it like this:\n",
        "\n",
        "```\n",
        "names = ['Ali', 'Bob', 'Carla']\n",
        "names = pad(names, 5, '*')\n",
        "```\n",
        "Then `names` would evaluate to:\n",
        "```\n",
        "['Ali', 'Bob', 'Carla', '*', '*']\n",
        "```"
      ]
    },
    {
      "cell_type": "code",
      "metadata": {
        "id": "IjVCOVNs3_Ak"
      },
      "source": [
        "def pad(mylist, newlength, padstring = ''):\n",
        "  padlength = newlength - len(mylist)\n",
        "  padlist = [padstring] * padlength\n",
        "  newlist = mylist + padlist\n",
        "\n",
        "  return newlist\n"
      ],
      "execution_count": null,
      "outputs": []
    },
    {
      "cell_type": "code",
      "metadata": {
        "id": "tgrmuzBt3_Am",
        "colab": {
          "base_uri": "https://localhost:8080/"
        },
        "outputId": "95366fb0-7b1b-4070-97e1-eb6661a0d650"
      },
      "source": [
        "pad(['A', 'B', 'C'],10, '강민')"
      ],
      "execution_count": null,
      "outputs": [
        {
          "output_type": "execute_result",
          "data": {
            "text/plain": [
              "['A', 'B', 'C', '강민', '강민', '강민', '강민', '강민', '강민', '강민']"
            ]
          },
          "metadata": {
            "tags": []
          },
          "execution_count": 161
        }
      ]
    },
    {
      "cell_type": "code",
      "metadata": {
        "id": "Ekuc46643_Ao"
      },
      "source": [],
      "execution_count": null,
      "outputs": []
    }
  ]
}