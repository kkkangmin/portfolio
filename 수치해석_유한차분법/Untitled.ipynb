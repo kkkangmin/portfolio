{
 "cells": [
  {
   "cell_type": "code",
   "execution_count": 1,
   "metadata": {},
   "outputs": [
    {
     "name": "stdout",
     "output_type": "stream",
     "text": [
      "Requirement already satisfied: matplotlib in c:\\users\\kkm84\\anaconda\\lib\\site-packages (3.3.2)\n",
      "Requirement already satisfied: pyparsing!=2.0.4,!=2.1.2,!=2.1.6,>=2.0.3 in c:\\users\\kkm84\\anaconda\\lib\\site-packages (from matplotlib) (2.4.7)\n",
      "Requirement already satisfied: pillow>=6.2.0 in c:\\users\\kkm84\\anaconda\\lib\\site-packages (from matplotlib) (8.0.1)\n",
      "Requirement already satisfied: certifi>=2020.06.20 in c:\\users\\kkm84\\anaconda\\lib\\site-packages (from matplotlib) (2020.6.20)\n",
      "Requirement already satisfied: cycler>=0.10 in c:\\users\\kkm84\\anaconda\\lib\\site-packages (from matplotlib) (0.10.0)\n",
      "Requirement already satisfied: python-dateutil>=2.1 in c:\\users\\kkm84\\anaconda\\lib\\site-packages (from matplotlib) (2.8.1)\n",
      "Requirement already satisfied: kiwisolver>=1.0.1 in c:\\users\\kkm84\\anaconda\\lib\\site-packages (from matplotlib) (1.3.0)\n",
      "Requirement already satisfied: numpy>=1.15 in c:\\users\\kkm84\\anaconda\\lib\\site-packages (from matplotlib) (1.19.2)\n",
      "Requirement already satisfied: six in c:\\users\\kkm84\\anaconda\\lib\\site-packages (from cycler>=0.10->matplotlib) (1.15.0)\n",
      "Note: you may need to restart the kernel to use updated packages.\n"
     ]
    }
   ],
   "source": [
    "pip install matplotlib"
   ]
  },
  {
   "cell_type": "code",
   "execution_count": 2,
   "metadata": {},
   "outputs": [
    {
     "name": "stdout",
     "output_type": "stream",
     "text": [
      "Requirement already satisfied: numpy in c:\\users\\kkm84\\anaconda\\lib\\site-packages (1.19.2)\n",
      "Note: you may need to restart the kernel to use updated packages.\n"
     ]
    }
   ],
   "source": [
    "pip install numpy"
   ]
  },
  {
   "cell_type": "code",
   "execution_count": 3,
   "metadata": {},
   "outputs": [
    {
     "data": {
      "image/png": "[encoded data removed]",
      "text/plain": [
       "<Figure size 432x288 with 1 Axes>"
      ]
     },
     "metadata": {
      "needs_background": "light"
     },
     "output_type": "display_data"
    },
    {
     "name": "stdout",
     "output_type": "stream",
     "text": [
      "Price=9899.781594\n"
     ]
    }
   ],
   "source": [
    "import numpy as np\n",
    "import matplotlib.pyplot as plt\n",
    "import thomas as tho\n",
    "\n",
    "facevalue = 10000 #액면금액\n",
    "R = 300 # x,y 도메인의 최댓값\n",
    "volatility = 0.1778 # 변동성\n",
    "r = 0.0165 # 무위험 이자율\n",
    "Nx = 301 # 공간격자갯수\n",
    "h = R/Nx # 공간격자간격\n",
    "x0 = 100 # 최초 기준 가격\n",
    "x = np.linspace(0, R, Nx) # 기초자산\n",
    "T = 3 # 만기\n",
    "Nt = 360*T # 시간격자갯수\n",
    "dt = T/Nt # 시간격자간격\n",
    "# 낙인 아래로 떨어지지 않는 경우 옵션가격 행렬 생성, 모두 0임\n",
    "u = np.zeros((Nx, Nt+1))\n",
    "# 낙인 아래로 떨어진 경우 옵션가격 행렬 생성, 모두 0임\n",
    "ku = np.zeros((Nx, Nt+1))\n",
    "#조기상환시 쿠폰 이자율\n",
    "coupon_rate = np.array([0.132, 0.11, 0.088, 0.066, 0.044, 0.022])\n",
    "#조기행사가\n",
    "strike_price = np.array([0.85, 0.90, 0.90, 0.95, 0.95, 0.95])\n",
    "# 조기행사 시점 벡터\n",
    "step = np.array([np.rint(Nt/6), np.rint(2*Nt/6), np.rint(3*Nt/6), np.rint(4*Nt/6), np.rint(5*Nt/6), Nt+1])\n",
    "dummy = 0.132 # 더미 이자율\n",
    "kib = 0.65 # 낙인 배리어\n",
    "# 유한 차분법으로 ELS 가격을 구하기 위한 초깃값\n",
    "for i in range(0, Nx):\n",
    "    if(x[i] < kib*x0):\n",
    "        u[i,0] = x[i]/x0*facevalue\n",
    "        ku[i,0] = x[i]/x0*facevalue\n",
    "    elif(x[i] < strike_price[0]*x0):\n",
    "        u[i,0] = facevalue*(1+dummy)\n",
    "        ku[i,0] = x[i]/x0*facevalue\n",
    "    else:\n",
    "        u[i,0] = facevalue*(1+coupon_rate[0])\n",
    "        ku[i,0] = facevalue*(1+coupon_rate[0])\n",
    "[a,d,c,b] = map(np.zeros,[Nx,Nx,Nx,Nx])\n",
    "# 유한차분법을 사용하기 위한 계수, 식 (3.21)과 같은 식이다\n",
    "a[:] = r*x/(2*h) - (volatility*x)**2/(2*h**2)\n",
    "d[:] = (volatility*x)**2/(h**2) + r + (1/dt)\n",
    "c[:] = - r*x/(2*h) - (volatility*x)**2/(2*h**2)\n",
    "# 선형 경계조건, (3.12)에서 확인 할 수 있다\n",
    "a[Nx-1] = a[Nx-1] - c[Nx-1]; d[Nx-1] = d[Nx-1] + 2*c[Nx-1]\n",
    "# 조기상환을 진행하기 위한 변수\n",
    "tag = 0\n",
    "for n in range(0, Nt):\n",
    "    # 조기상환일의 페이오프\n",
    "    if(n == step[tag]):\n",
    "        # 조기상환 조건을 만족하는 가장 작은 x값 찾기\n",
    "        s = np.min(np.where(x >= x0*strike_price[tag+1]))\n",
    "        #s 값 이후로는 조기상환이 되기 때문에 쿠폰 이자 지급\n",
    "        u[s:Nx+1, n] = facevalue*(1 + coupon_rate[tag+1])\n",
    "        ku[s:Nx+1, n] = facevalue*(1 + coupon_rate[tag+1])\n",
    "        # 다음 조기상환일로 이동\n",
    "        tag = tag+1\n",
    "    # 낙인 배리어 보다 아래 있는 x값 찾기\n",
    "    s = np.min(np.where(x >= x0*kib))\n",
    "    # 낙인 배리어 아래는 u값에 ku값 반영\n",
    "    u[0:s, n] = ku[0:s, n]\n",
    "    # 유한차분법과 토마스 알고리즘을 통해 u, ku값 계산\n",
    "    b = u[:, n]/dt\n",
    "    u[:, n+1] = tho.thomas(a,d,c,b)\n",
    "    b = ku[:, n]/dt\n",
    "    ku[:, n+1] = tho.thomas(a,d,c,b)\n",
    "# 그래프 그리기\n",
    "plt.figure(1)\n",
    "plt.plot(u[:, Nt-1], 'k', label = 'no Knock-In')\n",
    "plt.plot(ku[:, Nt-1], 'k', linewidth = 0.1)\n",
    "plt.xlabel(\"x\", fontsize = 20)\n",
    "plt.ylabel(\"ELS Price\", fontsize = 20)\n",
    "plt.legend()\n",
    "plt.show()\n",
    "# x=100일 때의 ELS 가격을 찾기 위해 np.where 함수 이용\n",
    "ii = np.where(x==100)\n",
    "# 기초자산 가격이 100일 경우 ELS 가격 출력\n",
    "print('Price=%f' %(u[ii, Nt]))"
   ]
  },
  {
   "cell_type": "code",
   "execution_count": null,
   "metadata": {},
   "outputs": [],
   "source": []
  }
 ],
 "metadata": {
  "kernelspec": {
   "display_name": "Python 3",
   "language": "python",
   "name": "python3"
  },
  "language_info": {
   "codemirror_mode": {
    "name": "ipython",
    "version": 3
   },
   "file_extension": ".py",
   "mimetype": "text/x-python",
   "name": "python",
   "nbconvert_exporter": "python",
   "pygments_lexer": "ipython3",
   "version": "3.8.5"
  }
 },
 "nbformat": 4,
 "nbformat_minor": 4
}
